{
 "cells": [
  {
   "cell_type": "markdown",
   "metadata": {},
   "source": [
    "### Continuous fermentation\n",
    "\n",
    "Most bulk scale chemical processes are operated in continuous mode, consider for example the traditional petrochemical refinery. Continuous operation offers the advantage of stability, where conditions remain the same over extended periods of time. The non-production time in expensive equipment is minimised with continuous production, while optimal conditions can be targeted at steady state.\n",
    "\n",
    "Fermentation processes can also operate at steady state. Although commercial continuous processes exist, the status quo is batch and fed-batch operation. It is much easier to operate a batch fermentation, especially in the lab, where small scale explorations establish the platform for commercial development. This is likely to change in the age of the biorefinery, where optimisation of bulk scale fermentation processes will become more important.\n",
    "\n",
    "Continuous fermentation holds some practical challenges. Long term sterility can be an issue, where infections from unwanted organisms can kill a process and cause major material losses. Genetic stability of modified microbes can also be an issue, where strain regression can occur over extended periods of operation. With proper engineering these challenges can be overcome.\n",
    "\n",
    "In the lab continuous fermentation has advantages over conventional batch fermentation. The main advantage is that the microbe can be operated at steady state by keeping all the conditions in the fermenter constant. It is much easier to understand and investigate the physiology of an organism if it is ‘standing still’. In a batch system conditions are always changing and it becomes harder to investigate the effect of the conditions on the organism. Unfortunately continuous fermentation on small scale require specialized equipment, where a batch fermentation can be as easy as putting a flask in a temperature controlled shaker, accordingly 95% of fermentation literature is based on batch of fed-batch fermentation.\n",
    "\n",
    "In this last section of the course we'll introduce the chemostat. The example will show how steady state is reached when the inlet flowrate to the fermenter is equal to the outlet flowrate. We will show how the differential part of the cmol balance becomes zero and how an algebraic equation that describes steady state results. It will be shown how the growth rate of the organism can be controlled by merely adjusting the feed (and exit) flowrates. We will use the same system as in [section 7.1](https://nbviewer.jupyter.org/github/willienicol/Biochemical-engineering-notes/blob/master/7%20Fed-batch%20and%20continuous%20fermenters/Fed-batch%20fermenters.ipynb).\n",
    "\n"
   ]
  },
  {
   "cell_type": "code",
   "execution_count": 3,
   "metadata": {
    "collapsed": true
   },
   "outputs": [],
   "source": [
    "import numpy\n",
    "import matplotlib.pyplot as plt\n",
    "from scipy.integrate import odeint"
   ]
  },
  {
   "cell_type": "markdown",
   "metadata": {},
   "source": [
    "<img src=\"lacmap1.png\" width=\"450\" />\n",
    "\n",
    "The following physiological parameters will be used:\n",
    "\n",
    "\n",
    "|$\\alpha \\qquad \\qquad$|$\\gamma \\qquad \\qquad $|$\\mu_{max} \\qquad$|$\\theta_{max}\\qquad$\n",
    "|----|-|-|-\n",
    "|$\\frac{cmol\\,CO_2}{cmol \\, X}$|$\\frac{mol \\, ATP}{Cmol \\, X}$|$\\frac{1}{h}$|$\\frac{mol \\, ATP}{cmol\\,X\\cdot h}$\n",
    "|0.05|1.8|0.4|0.09\n",
    "\n",
    "Let's assume the standard biomass formula of $CH_{1.8}O_{0.5}N_{0.2}$.\n",
    "\n",
    "The growth and maintenance functions are given below. **Note that substrate inhibition used in section 7.1 is now omitted from the growth function.**\n",
    "\n",
    "$$\\mu=\\mu_{max}\\left[\\frac{Cs}{Km+Cs}\\right] \\left[1+\\frac{C_P}{K_P} \\right]^{-1} $$\n",
    "\n",
    "$$\\theta=\\theta_{max}\\left[\\frac{Cs}{Km+Cs}\\right]$$\n",
    "\n",
    "Parameters are defined in the cell below:\n"
   ]
  },
  {
   "cell_type": "code",
   "execution_count": 4,
   "metadata": {
    "collapsed": true
   },
   "outputs": [],
   "source": [
    "Km, Kp, Ks = 0.001, 2, 5\n",
    "alpha, gamma, mumax, thetamax = 0.05,1.8,0.4,0.09"
   ]
  },
  {
   "cell_type": "code",
   "execution_count": 5,
   "metadata": {
    "collapsed": true
   },
   "outputs": [],
   "source": [
    "def response_fun(C):\n",
    "    \n",
    "    Cs, Cx, Cp = C          \n",
    "    mu = mumax* (Cs/(Km+Cs)) * (1+Cp/Kp)**(-1) \n",
    "    theta=thetamax*Cs/(Km+Cs)\n",
    "    \n",
    "    S = numpy.matrix([[-1,(1+alpha),1],\n",
    "                  [0,1, 0],\n",
    "                  [0, -gamma, 1/3]])  \n",
    "\n",
    "    C = numpy.matrix([[0,mu,theta]]).T\n",
    "    \n",
    "    r = numpy.linalg.solve(S,C)\n",
    "        \n",
    "    return [-r[0,0],\n",
    "             r[1,0],   \n",
    "             r[2,0]]                                                    "
   ]
  },
  {
   "cell_type": "markdown",
   "metadata": {},
   "source": [
    "The following video might be helpful:\n",
    "\n",
    "[Video: Lecture 19: Continuous fermentation](https://youtu.be/iuuq0p1QeaY)\n",
    "\n",
    "<img src=\"cont.png\" width=\"400\" />\n",
    "\n",
    "We are now going to operate the fermenter by continuously feeding substrate at a flowrate of $Q$, while simultaneously removing liquid from the fermenter at the same flowrate ($Q$). Like before we start by using  cmol component balance given in [section 5.3](https://nbviewer.jupyter.org/github/willienicol/Biochemical-engineering-notes/blob/master/5%20Basic%20bioreactor%20modeling/The%20fermenter%20equation.ipynb):\n",
    "\n",
    "$$\\frac{dN_i}{dt}=Q C^F_i-QC_i  + r_i C_X V $$\n",
    "\n",
    "Given that the inlet and outlet flowrates are the same, the volume in the fermenter will remain unchanged. The above equation can thus be rewritten as follow:\n",
    "\n",
    "$$\\frac{dC_i}{dt}=\\frac{Q}{V}(C^F_i-C_i) + r_i C_X  $$  \n",
    "\n",
    "Note that the outlet concentration ($C_i$) is the same as the concentration in the well mixed fermenter. The inlet concentration\n",
    "($C^F_i$) needs to be specified.\n"
   ]
  },
  {
   "cell_type": "code",
   "execution_count": 6,
   "metadata": {
    "collapsed": true
   },
   "outputs": [],
   "source": [
    "Cfs=68/30  #cmol/l"
   ]
  },
  {
   "cell_type": "code",
   "execution_count": 7,
   "metadata": {
    "collapsed": true
   },
   "outputs": [],
   "source": [
    "def ferm_eq(C,t):\n",
    "    Cs, Cx, Cp = C[0],C[1],C[2]\n",
    "    r=response_fun([Cs, Cx, Cp])     \n",
    "    \n",
    "    return [r[0]*Cx + (Q/V)*(Cfs-Cs),\n",
    "            r[1]*Cx + (Q/V)*(-Cx),\n",
    "            r[2]*Cx + (Q/V)*(-Cp)]  "
   ]
  },
  {
   "cell_type": "markdown",
   "metadata": {},
   "source": [
    "Note from the specification above that only glucose is fed to the fermenter. Accordingly no cells or lactic acid is fed. The 3 balances can be written separately:\n",
    "\n",
    "$$\\frac{dC_S}{dt}=\\frac{Q}{V}(C^F_S-C_S) + r_S C_X  $$\n",
    "\n",
    "$$\\frac{dC_X}{dt}=-\\frac{Q}{V}C_X + r_X C_X  $$\n",
    "\n",
    "$$\\frac{dC_P}{dt}=-\\frac{Q}{V}C_P + r_P C_X  $$\n",
    "\n"
   ]
  },
  {
   "cell_type": "markdown",
   "metadata": {},
   "source": [
    "The equations above look very similar to the batch fermenter equations of the **ferm_function**. There is however additional terms. The **response_fun** will however remain exactly the same as before.\n",
    "\n",
    "Use the following conditions and model the fermenter for 400 hours."
   ]
  },
  {
   "cell_type": "code",
   "execution_count": 8,
   "metadata": {
    "collapsed": true
   },
   "outputs": [],
   "source": [
    "Cxo, Cso = 0.003, 0  #cmol/L\n",
    "V, Q = 1000, 250     #L and L/h "
   ]
  },
  {
   "cell_type": "code",
   "execution_count": 9,
   "metadata": {
    "collapsed": false
   },
   "outputs": [
    {
     "data": {
      "image/png": "[encoded data removed]",
      "text/plain": [
       "<matplotlib.figure.Figure at 0x1f6cf101cf8>"
      ]
     },
     "metadata": {},
     "output_type": "display_data"
    }
   ],
   "source": [
    "Co=[Cso, Cxo, 0]                     # [Cxo, Cso, Cgo, Ceo] in cmol/L\n",
    "tmax=400                                   # Integrate for 20 hours  \n",
    "tspan=numpy.linspace(0,tmax,200)           # define the timespan of the integration\n",
    "Ci = odeint(ferm_eq, Co, tspan)             # integration via odeint that calls apon ferm_eq\n",
    "\n",
    "Cs1=Ci[:,0]                                  \n",
    "Cx1=Ci[:,1]\n",
    "Ce1=Ci[:,2]\n",
    "\n",
    "plt.figure(1)\n",
    "plt.plot(tspan, Cx1, color='b', label='Cx')\n",
    "plt.plot(tspan, Cs1, color='r', label='Cs')\n",
    "plt.plot(tspan, Ce1, color='k', label='Cp')\n",
    "plt.legend(loc='best')\n",
    "plt.ylabel('Concentration cmol/L') \n",
    "plt.xlabel('time (h)') \n",
    "plt.axis([0,160,0,2.5])\n",
    "plt.show()"
   ]
  },
  {
   "cell_type": "markdown",
   "metadata": {},
   "source": [
    "You should get something like this:\n",
    "\n",
    "<img src=\"cont_dyn1.png\" width=\"550\" />\n",
    "\n",
    "Repeat the simulation, but this time put some glucose in the fermenter beforehand:"
   ]
  },
  {
   "cell_type": "code",
   "execution_count": 10,
   "metadata": {
    "collapsed": true
   },
   "outputs": [],
   "source": [
    "Cso=60/30  #cmol/L"
   ]
  },
  {
   "cell_type": "code",
   "execution_count": 11,
   "metadata": {
    "collapsed": false
   },
   "outputs": [
    {
     "data": {
      "image/png": "[encoded data removed]",
      "text/plain": [
       "<matplotlib.figure.Figure at 0x1f6cef19e10>"
      ]
     },
     "metadata": {},
     "output_type": "display_data"
    }
   ],
   "source": [
    "Co=[Cso, Cxo, 0]                     # [Cxo, Cso, Cgo, Ceo] in cmol/L\n",
    "tmax=400                                   # Integrate for 20 hours  \n",
    "tspan=numpy.linspace(0,tmax,200)           # define the timespan of the integration\n",
    "Ci = odeint(ferm_eq, Co, tspan)             # integration via odeint that calls apon ferm_eq\n",
    "\n",
    "Cs1=Ci[:,0]                                  \n",
    "Cx1=Ci[:,1]\n",
    "Ce1=Ci[:,2]\n",
    "\n",
    "plt.figure(2)\n",
    "plt.plot(tspan, Cx1, color='b', label='Cx')\n",
    "plt.plot(tspan, Cs1, color='r', label='Cs')\n",
    "plt.plot(tspan, Ce1, color='k', label='Cp')\n",
    "plt.legend(loc='best')\n",
    "plt.ylabel('Concentration cmol/L') \n",
    "plt.xlabel('time (h)') \n",
    "plt.axis([0,160,0,2.5])\n",
    "plt.show()"
   ]
  },
  {
   "cell_type": "markdown",
   "metadata": {},
   "source": [
    "You should now get something like this:\n",
    "\n",
    "<img src=\"cont_dyn2.png\" width=\"550\" />\n",
    "\n",
    "Compare the final 'steady state' condition. Is there is difference? \n",
    "\n",
    "Now reduce $C_X^o$ to zero. What do you obtain and why?"
   ]
  },
  {
   "cell_type": "code",
   "execution_count": 12,
   "metadata": {
    "collapsed": true
   },
   "outputs": [],
   "source": [
    "Cxo = 0"
   ]
  },
  {
   "cell_type": "code",
   "execution_count": 13,
   "metadata": {
    "collapsed": false
   },
   "outputs": [
    {
     "data": {
      "image/png": "[encoded data removed]",
      "text/plain": [
       "<matplotlib.figure.Figure at 0x1f6cf06ad68>"
      ]
     },
     "metadata": {},
     "output_type": "display_data"
    }
   ],
   "source": [
    "Co=[Cso, Cxo, 0]                     # [Cxo, Cso, Cgo, Ceo] in cmol/L\n",
    "tmax=400                                   # Integrate for 20 hours  \n",
    "tspan=numpy.linspace(0,tmax,200)           # define the timespan of the integration\n",
    "Ci = odeint(ferm_eq, Co, tspan)             # integration via odeint that calls apon ferm_eq\n",
    "\n",
    "Cs1=Ci[:,0]                                  \n",
    "Cx1=Ci[:,1]\n",
    "Ce1=Ci[:,2]\n",
    "\n",
    "plt.figure(3)\n",
    "plt.plot(tspan, Cx1, color='b', label='Cx')\n",
    "plt.plot(tspan, Cs1, color='r', label='Cs')\n",
    "plt.plot(tspan, Ce1, color='k', label='Cp')\n",
    "plt.legend(loc='best')\n",
    "plt.ylabel('Concentration cmol/L') \n",
    "plt.xlabel('time (h)') \n",
    "plt.axis([0,160,0,2.5])\n",
    "plt.show()"
   ]
  },
  {
   "cell_type": "markdown",
   "metadata": {},
   "source": [
    "We can see that there is zero concentration change at the end of the run, thus $\\frac{dC_i}{dt}=0$. At steady state we thus have the following:\n",
    "\n",
    "$$\\frac{Q}{V}(C^F_S-C_S) + r_S C_X = 0 $$\n",
    "\n",
    "$$-\\frac{Q}{V}C_X + r_X C_X  = 0 $$\n",
    "\n",
    "$$-\\frac{Q}{V}C_P + r_P C_X = 0 $$\n",
    "\n",
    "Above we have 3 equations with 3 unknowns ($C=[C_S, C_X, C_P]$). Unlike our matrix formulations these 3 equations are non-linear, just consider the $\\mu=r_X$ function (part of the **response_fun**). It is relatively simple to solve the system of 3 non-linear algebraic equations using the Python function **fsolve**.\n",
    "\n",
    "As example, take the following system of two non-linear equations:\n",
    "\n",
    "$$y=0.02x^2$$\n",
    "\n",
    "$$y=\\frac{2}{x}$$\n",
    "\n",
    "Let's quickly plot these functions:\n"
   ]
  },
  {
   "cell_type": "code",
   "execution_count": 14,
   "metadata": {
    "collapsed": false,
    "scrolled": true
   },
   "outputs": [
    {
     "data": {
      "image/png": "[encoded data removed]",
      "text/plain": [
       "<matplotlib.figure.Figure at 0x1f6cc5c16d8>"
      ]
     },
     "metadata": {},
     "output_type": "display_data"
    }
   ],
   "source": [
    "import numpy\n",
    "import matplotlib.pyplot as plt\n",
    "\n",
    "xspan=numpy.linspace(1,7,200)  \n",
    "plt.figure(4)\n",
    "plt.plot(xspan, 0.02*xspan**2, color='blue', label='fun1')\n",
    "plt.plot(xspan, 2/xspan, color='red', label='fun2')\n",
    "\n",
    "plt.legend(loc='best')\n",
    "plt.ylabel('y') \n",
    "plt.xlabel('x') \n",
    "plt.show()"
   ]
  },
  {
   "cell_type": "markdown",
   "metadata": {},
   "source": [
    "The intersection on the graph above gives the **x** and **y** value where both equations are satisfied, it is therefore a root of the two-equation system. We can easily obtain these values with **fsolve**. We start by defining a function of the two equations:  "
   ]
  },
  {
   "cell_type": "code",
   "execution_count": 15,
   "metadata": {
    "collapsed": true
   },
   "outputs": [],
   "source": [
    "def fun_algebra(C):\n",
    "    y, x = C[0], C[1]\n",
    "       \n",
    "    return [y-0.02*x**2,\n",
    "            y-2/x]            "
   ]
  },
  {
   "cell_type": "code",
   "execution_count": 16,
   "metadata": {
    "collapsed": false
   },
   "outputs": [
    {
     "data": {
      "text/plain": [
       "array([ 0.43088694,  4.64158883])"
      ]
     },
     "execution_count": 16,
     "metadata": {},
     "output_type": "execute_result"
    }
   ],
   "source": [
    "from scipy.optimize import fsolve\n",
    "ans=fsolve(fun_algebra,[1,1])  #Get estimate from graph above\n",
    "ans"
   ]
  },
  {
   "cell_type": "markdown",
   "metadata": {},
   "source": [
    "Note that the function **fsolve** requires an estimate for the answers. The estimate provided in the example was $[1,1]$. An answer is not always guaranteed when using **fsolve**. The root-finding algorithm depends on the accuracy of the initial guess. It is also possible to obtain multiple roots, so be careful in using **fsolve** blindly. It is very easy to test the answer by merely substituting into the function:  "
   ]
  },
  {
   "cell_type": "code",
   "execution_count": 17,
   "metadata": {
    "collapsed": false
   },
   "outputs": [
    {
     "name": "stdout",
     "output_type": "stream",
     "text": [
      "[8.0324635831630076e-14, -5.2570170439025787e-12]\n"
     ]
    }
   ],
   "source": [
    "print(fun_algebra(ans))"
   ]
  },
  {
   "cell_type": "markdown",
   "metadata": {},
   "source": [
    "What do the values above mean?\n",
    "\n",
    "Let's see if you can use **fsolve**. Take the 3 steady state component cmol balances and see whether you can obtain the same steady state concentrations as the final values from the integration. The answers will be close to identical. Your equivalent of the **fun_algebra** function will be very similar to the old **ferm_eq** function that calls upon the **response_fun**, but there won't be any differentials, only algebraic equations. \n",
    "\n",
    "Be careful when performing the initial guess. To be realistic the root must obey the following:\n",
    "\n",
    "$$0<C_S < C_S^F$$\n",
    "\n",
    "$$0<C_P < Y_{SP}^{max}C_S^F$$\n",
    "\n",
    "$$0<C_X < Y_{SX}^{max}C_S^F$$\n",
    "\n",
    "You should get the following $C=[C_S, C_X, C_P]$ : **[0.18465745,  0.87642339,  1.19635296]**\n"
   ]
  },
  {
   "cell_type": "code",
   "execution_count": 18,
   "metadata": {
    "collapsed": false
   },
   "outputs": [
    {
     "data": {
      "text/plain": [
       "array([ 0.87642339,  0.18465745,  1.19635296])"
      ]
     },
     "execution_count": 18,
     "metadata": {},
     "output_type": "execute_result"
    }
   ],
   "source": [
    "from scipy.optimize import fsolve\n",
    "ans=fsolve(ferm_eq,[0.9,0.2,1.2],0)  #Get estimate from graph above\n",
    "ans"
   ]
  },
  {
   "cell_type": "code",
   "execution_count": 19,
   "metadata": {
    "collapsed": false
   },
   "outputs": [
    {
     "name": "stdout",
     "output_type": "stream",
     "text": [
      "[1.5043521983670871e-14, -2.3453461395206432e-15, -1.2601031329495527e-14]\n"
     ]
    }
   ],
   "source": [
    "print(ferm_eq(ans,0))"
   ]
  },
  {
   "cell_type": "markdown",
   "metadata": {
    "collapsed": true
   },
   "source": [
    "Once you are able to solve for a steady state condition, you can vary the throughput (flow through the fermenter).\n",
    "\n",
    "Reduce the flowrate to 50 $\\frac{L}{h}$. You should get the following $[C_S, C_X, C_P]$ : **[0.2910506, 3.28984e-04,   1.960734]**\n",
    "\n",
    "The productivity of the chemostat (continuous fermenter) is merely the volumetric production rate of product ($r_P^V$). Play around with the flowrate ($Q$) and determine the maximum lactic acid productivity. **[P = 11.5 $\\frac{g}{L \\cdot h}$]**\n",
    "\n",
    "<img src=\"prod_cont.png\" width=\"550\" />\n",
    "\n",
    "Compare this to the productivity of a batch fermenter, where $C_S^o$ is the same as the glucose feed concentration of the chemostat ($C_S^F$). Use the same $C_X^o$ as specified before. **[P = 4.2 $\\frac{g}{L \\cdot h}$]**\n",
    "\n",
    "Why is the chemostat so much more productive? Think long and hard and talk to your group about your ideas. ????"
   ]
  },
  {
   "cell_type": "code",
   "execution_count": 20,
   "metadata": {
    "collapsed": false
   },
   "outputs": [
    {
     "data": {
      "text/plain": [
       "array([  3.28984734e-04,   2.91050604e-01,   1.96073455e+00])"
      ]
     },
     "execution_count": 20,
     "metadata": {},
     "output_type": "execute_result"
    }
   ],
   "source": [
    "Q = 50 #L/h\n",
    "\n",
    "ans=fsolve(ferm_eq,[0.002,0.3,1.9],0)  #Get estimate from graph above\n",
    "ans"
   ]
  },
  {
   "cell_type": "code",
   "execution_count": 21,
   "metadata": {
    "collapsed": false
   },
   "outputs": [
    {
     "data": {
      "text/plain": [
       "0.098036727389536282"
      ]
     },
     "execution_count": 21,
     "metadata": {},
     "output_type": "execute_result"
    }
   ],
   "source": [
    "rVP = (Q/V)*(ans[2])\n",
    "rVP"
   ]
  },
  {
   "cell_type": "code",
   "execution_count": 30,
   "metadata": {
    "collapsed": false
   },
   "outputs": [
    {
     "data": {
      "image/png": "[encoded data removed]",
      "text/plain": [
       "<matplotlib.figure.Figure at 0x1f6cf668860>"
      ]
     },
     "metadata": {},
     "output_type": "display_data"
    }
   ],
   "source": [
    "listmax=0.4                                   # Integrate for 20 hours  \n",
    "D1=numpy.linspace(0.05,listmax,100) \n",
    "\n",
    "Q1 = D1*V\n",
    "\n",
    "lis2 =[]\n",
    "\n",
    "C1 ,C2,C3 = 3.28984734e-04,   2.91050604e-01,   1.96073455e+00\n",
    "\n",
    "\n",
    "for i in range(len(Q1)):\n",
    "    Q = Q1[i]\n",
    "    ans=fsolve(ferm_eq,[C1, C2, C3],0)      \n",
    "    \n",
    "    C1  = float(ans[0])\n",
    "    C2 = float(ans[1])\n",
    "    C3 = float(ans[2])\n",
    "    \n",
    "    rVP = (Q1[i]/V)*(ans[2])\n",
    "    lis2.append(rVP)\n",
    "\n",
    "plt.figure(6)\n",
    "plt.plot(D1, lis2)\n",
    "plt.show()"
   ]
  },
  {
   "cell_type": "code",
   "execution_count": 31,
   "metadata": {
    "collapsed": false
   },
   "outputs": [
    {
     "data": {
      "text/plain": [
       "11.527448478162331"
      ]
     },
     "execution_count": 31,
     "metadata": {},
     "output_type": "execute_result"
    }
   ],
   "source": [
    "max(lis2)*30"
   ]
  },
  {
   "cell_type": "markdown",
   "metadata": {},
   "source": [
    "### Dilution rate (D)\n",
    "\n",
    "In fermentation nomenclature the throughput is defined by the dilution rate (D) where:\n",
    "\n",
    "$$D=\\frac{Q}{V}$$\n",
    "---\n",
    "\n",
    "If we take the steady state cmol balance of biomass, an interesting result is obtained:\n",
    "\n",
    "$$-\\frac{Q}{V}C_X + r_X C_X  = 0 $$\n",
    "\n",
    "$$ -DC_X + \\mu C_X = 0$$\n",
    "\n",
    "$$ D=\\mu$$\n",
    "---\n",
    "\n",
    "Wow! So the throughput directly controls the growth rate! We can thus adjust the $\\mu$ value by adjusting $Q$.\n",
    "\n",
    "Okey, so the aim is to get $\\mu$ high. Let's specify a $\\mu =D$ value of $0.5 \\frac{1}{h}$ and see what is obtained. Check your algebraic calculation by also performing an integration (time dependant solution of steady state). Use a $C_S^o$ value of $2 \\frac{cmol}{L}$ and a $C_X^o$ value of $0.3 \\frac{cmol}{L}$ while $C_S^F$ remains the same as before. What is happening here?\n",
    "\n",
    "<img src=\"washout.png\" width=\"550\" />\n"
   ]
  },
  {
   "cell_type": "code",
   "execution_count": 32,
   "metadata": {
    "collapsed": true
   },
   "outputs": [],
   "source": [
    "D, Cso, Cxo = 0.5,2,0.3"
   ]
  },
  {
   "cell_type": "code",
   "execution_count": 33,
   "metadata": {
    "collapsed": false
   },
   "outputs": [
    {
     "data": {
      "image/png": "[encoded data removed]",
      "text/plain": [
       "<matplotlib.figure.Figure at 0x1f6cef3c5c0>"
      ]
     },
     "metadata": {},
     "output_type": "display_data"
    }
   ],
   "source": [
    "Q = D*V\n",
    "Co=[Cso, Cxo, 0]                     # [Cxo, Cso, Cgo, Ceo] in cmol/L\n",
    "tmax=100                                   # Integrate for 20 hours  \n",
    "tspan=numpy.linspace(0,tmax,200)           # define the timespan of the integration\n",
    "Ci = odeint(ferm_eq, Co, tspan)             # integration via odeint that calls apon ferm_eq\n",
    "\n",
    "Cs1=Ci[:,0]                                  \n",
    "Cx1=Ci[:,1]\n",
    "Ce1=Ci[:,2]\n",
    "\n",
    "plt.figure(7)\n",
    "plt.plot(tspan, Cx1, color='b', label='Cx')\n",
    "plt.plot(tspan, Cs1, color='r', label='Cs')\n",
    "plt.plot(tspan, Ce1, color='k', label='Cp')\n",
    "plt.legend(loc='best')\n",
    "plt.ylabel('Concentration cmol/L') \n",
    "plt.xlabel('time (h)') \n",
    "plt.axis([0,30,0,2.5])\n",
    "plt.show()"
   ]
  },
  {
   "cell_type": "code",
   "execution_count": 26,
   "metadata": {
    "collapsed": false
   },
   "outputs": [
    {
     "data": {
      "text/plain": [
       "array([  2.26666667e+00,  -9.66457250e-19,  -5.73934616e-18])"
      ]
     },
     "execution_count": 26,
     "metadata": {},
     "output_type": "execute_result"
    }
   ],
   "source": [
    "ans=fsolve(ferm_eq,[2.3,0.1,0.1],0)  #Get estimate from graph above\n",
    "ans"
   ]
  },
  {
   "cell_type": "markdown",
   "metadata": {
    "collapsed": true
   },
   "source": [
    "Reduce the D value and replot the dynamic response, while checking the algebraic steady state root. "
   ]
  },
  {
   "cell_type": "code",
   "execution_count": 27,
   "metadata": {
    "collapsed": true
   },
   "outputs": [],
   "source": [
    "D = 0.4"
   ]
  },
  {
   "cell_type": "code",
   "execution_count": 28,
   "metadata": {
    "collapsed": false
   },
   "outputs": [
    {
     "data": {
      "image/png": "[encoded data removed]",
      "text/plain": [
       "<matplotlib.figure.Figure at 0x1f6cf603d30>"
      ]
     },
     "metadata": {},
     "output_type": "display_data"
    }
   ],
   "source": [
    "Q = D*V\n",
    "Co=[Cso, Cxo, 0]                    # [Cxo, Cso, Cgo, Ceo] in cmol/L\n",
    "tmax=100                            # Integrate for 20 hours  \n",
    "tspan=numpy.linspace(0,tmax,200)    # define the timespan of the integration\n",
    "Ci = odeint(ferm_eq, Co, tspan)     # integration via odeint that calls apon ferm_eq\n",
    "\n",
    "Cs1=Ci[:,0]                                  \n",
    "Cx1=Ci[:,1]\n",
    "Ce1=Ci[:,2]\n",
    "\n",
    "plt.figure(8)\n",
    "plt.plot(tspan, Cx1, color='b', label='Cx')\n",
    "plt.plot(tspan, Cs1, color='r', label='Cs')\n",
    "plt.plot(tspan, Ce1, color='k', label='Cp')\n",
    "plt.legend(loc='best')\n",
    "plt.ylabel('Concentration cmol/L') \n",
    "plt.xlabel('time (h)') \n",
    "plt.axis([0,30,0,2.5])\n",
    "plt.show()"
   ]
  },
  {
   "cell_type": "code",
   "execution_count": 29,
   "metadata": {
    "collapsed": false
   },
   "outputs": [
    {
     "data": {
      "text/plain": [
       "array([  2.26666667e+00,  -1.51380493e-15,  -9.19591381e-15])"
      ]
     },
     "execution_count": 29,
     "metadata": {},
     "output_type": "execute_result"
    }
   ],
   "source": [
    "ans=fsolve(ferm_eq,[2.2,0.1,0.1],0)  #Get estimate from graph above\n",
    "ans"
   ]
  },
  {
   "cell_type": "markdown",
   "metadata": {},
   "source": [
    "So there you have it. It is possible to have stable steady state operation at higher productivities than the that of the batch fermenter. No integration required to solve for steady state. Response function remains identical (like always). **Fsolve** is a convenient tool for solving sets of non-linear algebraic equations. There is a throughput limit linked to the maximum growth rate."
   ]
  }
 ],
 "metadata": {
  "kernelspec": {
   "display_name": "Python 3",
   "language": "python",
   "name": "python3"
  },
  "language_info": {
   "codemirror_mode": {
    "name": "ipython",
    "version": 3
   },
   "file_extension": ".py",
   "mimetype": "text/x-python",
   "name": "python",
   "nbconvert_exporter": "python",
   "pygments_lexer": "ipython3",
   "version": "3.6.0"
  }
 },
 "nbformat": 4,
 "nbformat_minor": 0
}
