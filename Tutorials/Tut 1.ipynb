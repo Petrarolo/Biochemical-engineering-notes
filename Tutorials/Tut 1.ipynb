{
 "cells": [
  {
   "cell_type": "markdown",
   "metadata": {},
   "source": [
    "## Tutorial 1\n",
    "$$$$\n",
    "<img src=\"succi1.jpg\" width=\"750\" />\n",
    "$$$$\n",
    "The rumen bacterium *Actinobacillus succinogenes* \n",
    "\n",
    "consumes glucose anaerobically to produce biomass, succinic and acetic acid when $NH_3$ is used as nitrogen source. Carbon dioxide can be a reagent or product in this reaction, while water is formed as product. \n",
    "\n",
    "You can assume the standard elemental composition for the biomass.\n",
    "\n",
    "It was determined from a fermentation run that the acetic acid yield was \n",
    "\n",
    "0.19 $\\frac{g \\,AA}{g \\, Gluc}$ and the biomass yield 0.0656 $\\frac{g \\,X}{g \\, Gluc}$\n",
    "\n",
    "\n",
    "a)\tDetermine the mass based yield of succinic acid on glucose. [0.816 $\\frac{g}{g}$]\n",
    "$$$$\n",
    "b)\tIs $CO_2$ formed as product or used as reagent? Determine the moles of $CO_2$ formed/used per cmol of glucose used. [0.1 mol/cmol]\n",
    "$$$$\n",
    "c) Repeat the calculation in (a) using the degree of reduction ($DOR$) method. \t\n",
    "$$$$\n",
    "d) What will be the mass based succinic acid yield on glucose if zero biomass formed? Acetic acid yield remains the same. [0.91 $\\frac{g}{g}$]\n",
    "\n"
   ]
  },
  {
   "cell_type": "markdown",
   "metadata": {},
   "source": [
    "# A"
   ]
  },
  {
   "cell_type": "code",
   "execution_count": 3,
   "metadata": {
    "collapsed": false
   },
   "outputs": [
    {
     "data": {
      "text/plain": [
       "matrix([[-1. ,  0. ,  1. ,  1. ,  1. ,  1. ,  0. ],\n",
       "        [-2. , -3. ,  1.8,  1.5,  2. ,  0. ,  2. ],\n",
       "        [-1. ,  0. ,  0.5,  1. ,  1. ,  2. ,  1. ],\n",
       "        [ 0. , -1. ,  0.2,  0. ,  0. ,  0. ,  0. ],\n",
       "        [ 1. ,  0. ,  0. ,  0. ,  0. ,  0. ,  0. ],\n",
       "        [ 0. ,  0. ,  1. ,  0. ,  0. ,  0. ,  0. ],\n",
       "        [ 0. ,  0. ,  0. ,  0. ,  1. ,  0. ,  0. ]])"
      ]
     },
     "execution_count": 3,
     "metadata": {},
     "output_type": "execute_result"
    }
   ],
   "source": [
    "import numpy\n",
    "S = numpy.matrix([[-1,0,1,1,1,1,0],\n",
    "                  [-2,-3,1.8,1.5,2,0,2],\n",
    "                  [-1,0,0.5,1,1,2,1],                  \n",
    "                  [0,-1,0.2,0,0,0,0],\n",
    "                  [1,0,0,0,0,0,0],\n",
    "                  [0,0,1,0,0,0,0],\n",
    "                  [0,0,0,0,1,0,0]])  \n",
    "\n",
    "S\n",
    "\n"
   ]
  },
  {
   "cell_type": "code",
   "execution_count": 4,
   "metadata": {
    "collapsed": false
   },
   "outputs": [
    {
     "data": {
      "text/plain": [
       "matrix([[ 1.        ],\n",
       "        [ 0.016     ],\n",
       "        [ 0.08      ],\n",
       "        [ 0.82971429],\n",
       "        [ 0.19      ],\n",
       "        [-0.09971429],\n",
       "        [ 0.13971429]])"
      ]
     },
     "execution_count": 4,
     "metadata": {},
     "output_type": "execute_result"
    }
   ],
   "source": [
    "C = numpy.matrix([[0,0,0,0,1,0.08,0.19]]).T\n",
    "Y = numpy.linalg.solve(S,C)\n",
    "Y"
   ]
  },
  {
   "cell_type": "markdown",
   "metadata": {},
   "source": [
    "since r6 is negative it is actually a reagent\n"
   ]
  },
  {
   "cell_type": "code",
   "execution_count": 5,
   "metadata": {
    "collapsed": false
   },
   "outputs": [
    {
     "data": {
      "text/plain": [
       "matrix([[-1. ,  0. ,  1. ,  1. ,  1. , -1. ,  0. ],\n",
       "        [-2. , -3. ,  1.8,  1.5,  2. ,  0. ,  2. ],\n",
       "        [-1. ,  0. ,  0.5,  1. ,  1. , -2. ,  1. ],\n",
       "        [ 0. , -1. ,  0.2,  0. ,  0. ,  0. ,  0. ],\n",
       "        [ 1. ,  0. ,  0. ,  0. ,  0. ,  0. ,  0. ],\n",
       "        [ 0. ,  0. ,  1. ,  0. ,  0. ,  0. ,  0. ],\n",
       "        [ 0. ,  0. ,  0. ,  0. ,  1. ,  0. ,  0. ]])"
      ]
     },
     "execution_count": 5,
     "metadata": {},
     "output_type": "execute_result"
    }
   ],
   "source": [
    "import numpy\n",
    "S = numpy.matrix([[-1,0,1,1,1,-1,0],\n",
    "                  [-2,-3,1.8,1.5,2,0,2],\n",
    "                  [-1,0,0.5,1,1,-2,1],                  \n",
    "                  [0,-1,0.2,0,0,0,0],\n",
    "                  [1,0,0,0,0,0,0],\n",
    "                  [0,0,1,0,0,0,0],\n",
    "                  [0,0,0,0,1,0,0]])  \n",
    "\n",
    "S"
   ]
  },
  {
   "cell_type": "code",
   "execution_count": 6,
   "metadata": {
    "collapsed": false
   },
   "outputs": [
    {
     "data": {
      "text/plain": [
       "matrix([[ 1.        ],\n",
       "        [ 0.016     ],\n",
       "        [ 0.08      ],\n",
       "        [ 0.82971429],\n",
       "        [ 0.19      ],\n",
       "        [ 0.09971429],\n",
       "        [ 0.13971429]])"
      ]
     },
     "execution_count": 6,
     "metadata": {},
     "output_type": "execute_result"
    }
   ],
   "source": [
    "C = numpy.matrix([[0,0,0,0,1,0.08,0.19]]).T\n",
    "Y = numpy.linalg.solve(S,C)\n",
    "Y"
   ]
  },
  {
   "cell_type": "code",
   "execution_count": 7,
   "metadata": {
    "collapsed": false
   },
   "outputs": [
    {
     "data": {
      "text/plain": [
       "matrix([[ 0.82971429]])"
      ]
     },
     "execution_count": 7,
     "metadata": {},
     "output_type": "execute_result"
    }
   ],
   "source": [
    "Y[3]"
   ]
  },
  {
   "cell_type": "code",
   "execution_count": 9,
   "metadata": {
    "collapsed": false
   },
   "outputs": [
    {
     "data": {
      "text/plain": [
       "matrix([[ 0.81588571]])"
      ]
     },
     "execution_count": 9,
     "metadata": {},
     "output_type": "execute_result"
    }
   ],
   "source": [
    "a = (Y[3]*118*6)/(4*180)\n",
    "\n",
    "a"
   ]
  },
  {
   "cell_type": "markdown",
   "metadata": {},
   "source": [
    "# B:"
   ]
  },
  {
   "cell_type": "markdown",
   "metadata": {},
   "source": [
    "Reagent"
   ]
  },
  {
   "cell_type": "code",
   "execution_count": 11,
   "metadata": {
    "collapsed": false
   },
   "outputs": [
    {
     "data": {
      "text/plain": [
       "matrix([[ 0.09971429]])"
      ]
     },
     "execution_count": 11,
     "metadata": {},
     "output_type": "execute_result"
    }
   ],
   "source": [
    "Y[5]"
   ]
  },
  {
   "cell_type": "markdown",
   "metadata": {},
   "source": [
    "# C:"
   ]
  },
  {
   "cell_type": "code",
   "execution_count": 21,
   "metadata": {
    "collapsed": false
   },
   "outputs": [
    {
     "data": {
      "text/plain": [
       "matrix([[-1. ,  0. ,  1. ,  1. ,  1. , -1. ],\n",
       "        [-4. ,  0. ,  4.2,  3.5,  4. ,  0. ],\n",
       "        [ 0. , -1. ,  0.2,  0. ,  0. ,  0. ],\n",
       "        [ 1. ,  0. ,  0. ,  0. ,  0. ,  0. ],\n",
       "        [ 0. ,  0. ,  1. ,  0. ,  0. ,  0. ],\n",
       "        [ 0. ,  0. ,  0. ,  0. ,  1. ,  0. ]])"
      ]
     },
     "execution_count": 21,
     "metadata": {},
     "output_type": "execute_result"
    }
   ],
   "source": [
    "import numpy\n",
    "S = numpy.matrix([[-1,0,1,1,1,-1],\n",
    "                  [-4,0,4.2,3.5,4,0],                  \n",
    "                  [0,-1,0.2,0,0,0],\n",
    "                  [1,0,0,0,0,0],\n",
    "                  [0,0,1,0,0,0],\n",
    "                  [0,0,0,0,1,0]])  \n",
    "\n",
    "S"
   ]
  },
  {
   "cell_type": "markdown",
   "metadata": {},
   "source": [
    "Removed H and O balances and replaces with DOR balance\n",
    "\n",
    "And removed H2O row"
   ]
  },
  {
   "cell_type": "code",
   "execution_count": 22,
   "metadata": {
    "collapsed": false
   },
   "outputs": [
    {
     "data": {
      "text/plain": [
       "matrix([[ 1.        ],\n",
       "        [ 0.016     ],\n",
       "        [ 0.08      ],\n",
       "        [ 0.82971429],\n",
       "        [ 0.19      ],\n",
       "        [ 0.09971429]])"
      ]
     },
     "execution_count": 22,
     "metadata": {},
     "output_type": "execute_result"
    }
   ],
   "source": [
    "C = numpy.matrix([[0,0,0,1,0.08,0.19]]).T\n",
    "Y = numpy.linalg.solve(S,C)\n",
    "Y"
   ]
  },
  {
   "cell_type": "code",
   "execution_count": 23,
   "metadata": {
    "collapsed": false
   },
   "outputs": [
    {
     "data": {
      "text/plain": [
       "matrix([[ 0.82971429]])"
      ]
     },
     "execution_count": 23,
     "metadata": {},
     "output_type": "execute_result"
    }
   ],
   "source": [
    "Y[3]"
   ]
  },
  {
   "cell_type": "code",
   "execution_count": 24,
   "metadata": {
    "collapsed": false
   },
   "outputs": [
    {
     "data": {
      "text/plain": [
       "matrix([[ 0.81588571]])"
      ]
     },
     "execution_count": 24,
     "metadata": {},
     "output_type": "execute_result"
    }
   ],
   "source": [
    "c = (Y[3]*118*6)/(4*180)\n",
    "\n",
    "c"
   ]
  },
  {
   "cell_type": "markdown",
   "metadata": {},
   "source": [
    "# D:"
   ]
  },
  {
   "cell_type": "code",
   "execution_count": 12,
   "metadata": {
    "collapsed": false
   },
   "outputs": [
    {
     "data": {
      "text/plain": [
       "matrix([[-1. ,  0. ,  1. ,  1. ,  1. , -1. ,  0. ],\n",
       "        [-2. , -3. ,  1.8,  1.5,  2. ,  0. ,  2. ],\n",
       "        [-1. ,  0. ,  0.5,  1. ,  1. , -2. ,  1. ],\n",
       "        [ 0. , -1. ,  0.2,  0. ,  0. ,  0. ,  0. ],\n",
       "        [ 1. ,  0. ,  0. ,  0. ,  0. ,  0. ,  0. ],\n",
       "        [ 0. ,  0. ,  1. ,  0. ,  0. ,  0. ,  0. ],\n",
       "        [ 0. ,  0. ,  0. ,  0. ,  1. ,  0. ,  0. ]])"
      ]
     },
     "execution_count": 12,
     "metadata": {},
     "output_type": "execute_result"
    }
   ],
   "source": [
    "import numpy\n",
    "S = numpy.matrix([[-1,0,1,1,1,-1,0],\n",
    "                  [-2,-3,1.8,1.5,2,0,2],\n",
    "                  [-1,0,0.5,1,1,-2,1],                  \n",
    "                  [0,-1,0.2,0,0,0,0],\n",
    "                  [1,0,0,0,0,0,0],\n",
    "                  [0,0,1,0,0,0,0],\n",
    "                  [0,0,0,0,1,0,0]])  \n",
    "\n",
    "S"
   ]
  },
  {
   "cell_type": "code",
   "execution_count": 14,
   "metadata": {
    "collapsed": false
   },
   "outputs": [
    {
     "data": {
      "text/plain": [
       "matrix([[  1.00000000e+00],\n",
       "        [  3.70074342e-17],\n",
       "        [  0.00000000e+00],\n",
       "        [  9.25714286e-01],\n",
       "        [  1.90000000e-01],\n",
       "        [  1.15714286e-01],\n",
       "        [  1.15714286e-01]])"
      ]
     },
     "execution_count": 14,
     "metadata": {},
     "output_type": "execute_result"
    }
   ],
   "source": [
    "C = numpy.matrix([[0,0,0,0,1,0,0.19]]).T\n",
    "Y = numpy.linalg.solve(S,C)\n",
    "Y\n"
   ]
  },
  {
   "cell_type": "code",
   "execution_count": 15,
   "metadata": {
    "collapsed": false
   },
   "outputs": [
    {
     "data": {
      "text/plain": [
       "matrix([[ 0.91028571]])"
      ]
     },
     "execution_count": 15,
     "metadata": {},
     "output_type": "execute_result"
    }
   ],
   "source": [
    "d = (Y[3]*118*6)/(4*180)\n",
    "\n",
    "d"
   ]
  },
  {
   "cell_type": "code",
   "execution_count": null,
   "metadata": {
    "collapsed": true
   },
   "outputs": [],
   "source": []
  }
 ],
 "metadata": {
  "kernelspec": {
   "display_name": "Python 3",
   "language": "python",
   "name": "python3"
  },
  "language_info": {
   "codemirror_mode": {
    "name": "ipython",
    "version": 3
   },
   "file_extension": ".py",
   "mimetype": "text/x-python",
   "name": "python",
   "nbconvert_exporter": "python",
   "pygments_lexer": "ipython3",
   "version": "3.6.0"
  }
 },
 "nbformat": 4,
 "nbformat_minor": 0
}
