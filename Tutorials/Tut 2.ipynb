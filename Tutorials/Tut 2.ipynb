{
 "cells": [
  {
   "cell_type": "markdown",
   "metadata": {},
   "source": [
    "### Tutorial 2\n",
    "\n",
    "The yeast _Saccharomyces cerevisiae_ is produced commercially on a large scale to provide bakers around the world with the ‘magic stuff’ that makes dough rise. Using the generic biomass formula for the yeast cells ($CH_{1.8}O_{0.5}N_{0.2}$), write down the overall equation for producing cells from glucose, ammonia and oxygen. Note that $CO_2$ and $H_2O$ will be products.\n",
    "\n",
    "<img src=\"saccharo.png\" width=\"550\" />\n",
    "\n",
    "a)\tWhat is the mass based yield of biomass on glucose if zero oxygen is used? [0.78 g/g]\n",
    "\n",
    "b)\tWill the reaction in (a) be feasible, give reasons.\n",
    "\n",
    "c)\tIf oxygen is introduced into the system (@ 0.38 mol $O_2$/cmol glucose), what will be the biomass yield and why the change from (a)? [0.48 g/g]\n",
    "\n",
    "d)\tAll the oxygen is consumed is via the process of oxidative phosphorylation. Use this to determine the moles of ATP generated per cmol of biomass (X) formed for the scenario in (c). Assume a $(P/O)_{NADH}$ of 1.7 and a $(P/O)_{FADH}$ of 1.2. [2.51 $\\frac {mol \\, ATP}{cmol \\, X}$]\n"
   ]
  },
  {
   "cell_type": "markdown",
   "metadata": {
    "collapsed": true
   },
   "source": [
    "[Back to all tutorials](http://localhost:8888/notebooks/Dropbox/1_CBI%20310/2017/Tutorials/All%20tutorials.ipynb)"
   ]
  },
  {
   "cell_type": "markdown",
   "metadata": {
    "collapsed": true
   },
   "source": [
    "# A:"
   ]
  },
  {
   "cell_type": "code",
   "execution_count": 6,
   "metadata": {
    "collapsed": false
   },
   "outputs": [
    {
     "name": "stdout",
     "output_type": "stream",
     "text": [
      "[[ 1.   0.   0.   1.   1.   0. ]\n",
      " [ 2.   3.   0.   1.8  0.   2. ]\n",
      " [ 1.   0.   2.   0.5  2.   1. ]\n",
      " [ 0.   1.   0.   0.2  0.   0. ]\n",
      " [ 1.   0.   0.   0.   0.   0. ]\n",
      " [ 0.   0.   1.   0.   0.   0. ]]\n",
      "[[ 1.        ]\n",
      " [ 0.19047619]\n",
      " [ 0.        ]\n",
      " [-0.95238095]\n",
      " [-0.04761905]\n",
      " [-0.42857143]]\n",
      "0.9523809523809524 cmolX/cmolGluc\n",
      "0.7809523809523811 g/g\n"
     ]
    }
   ],
   "source": [
    "import numpy\n",
    "S = numpy.matrix([[1,0,0,1,1,0],\n",
    "                  [2,3,0,1.8,0,2],\n",
    "                  [1,0,2,0.5,2,1],                  \n",
    "                  [0,1,0,0.2,0,0],\n",
    "                  [1,0,0,0,0,0],\n",
    "                  [0,0,1,0,0,0]])  \n",
    "\n",
    "print(S)\n",
    "\n",
    "\n",
    "\n",
    "# In[4]:\n",
    "\n",
    "C = numpy.matrix([[0,0,0,0,1,0]]).T\n",
    "Y = numpy.linalg.solve(S,C)\n",
    "print(Y)\n",
    "\n",
    "print(abs(float(Y[3])), \"cmolX/cmolGluc\")\n",
    "\n",
    "\n",
    "\n",
    "a = (float(Y[3])*6.0*24.6)/180.0\n",
    "\n",
    "print(abs(a), \"g/g\")"
   ]
  },
  {
   "cell_type": "markdown",
   "metadata": {},
   "source": [
    "# B:"
   ]
  },
  {
   "cell_type": "markdown",
   "metadata": {},
   "source": [
    "No, this is an aerobic reaction "
   ]
  },
  {
   "cell_type": "markdown",
   "metadata": {},
   "source": [
    "# C:"
   ]
  },
  {
   "cell_type": "code",
   "execution_count": 8,
   "metadata": {
    "collapsed": false
   },
   "outputs": [
    {
     "name": "stdout",
     "output_type": "stream",
     "text": [
      "[[ 1.   0.   0.   1.   1.   0. ]\n",
      " [ 2.   3.   0.   1.8  0.   2. ]\n",
      " [ 1.   0.   2.   0.5  2.   1. ]\n",
      " [ 0.   1.   0.   0.2  0.   0. ]\n",
      " [ 1.   0.   0.   0.   0.   0. ]\n",
      " [ 0.   0.   1.   0.   0.   0. ]]\n",
      "[[ 1.        ]\n",
      " [ 0.11809524]\n",
      " [ 0.38      ]\n",
      " [-0.59047619]\n",
      " [-0.40952381]\n",
      " [-0.64571429]]\n",
      "0.5904761904761904 cmolX/cmolGluc\n",
      "0.48419047619047617 g/g\n"
     ]
    }
   ],
   "source": [
    "import numpy\n",
    "S = numpy.matrix([[1,0,0,1,1,0],\n",
    "                  [2,3,0,1.8,0,2],\n",
    "                  [1,0,2,0.5,2,1],                  \n",
    "                  [0,1,0,0.2,0,0],\n",
    "                  [1,0,0,0,0,0],\n",
    "                  [0,0,1,0,0,0]])  \n",
    "\n",
    "print(S)\n",
    "\n",
    "\n",
    "\n",
    "# In[4]:\n",
    "\n",
    "C = numpy.matrix([[0,0,0,0,1,0.38]]).T\n",
    "Y = numpy.linalg.solve(S,C)\n",
    "print(Y)\n",
    "\n",
    "print(abs(float(Y[3])), \"cmolX/cmolGluc\")\n",
    "\n",
    "\n",
    "\n",
    "a = (float(Y[3])*6.0*24.6)/180.0\n",
    "\n",
    "print(abs(a), \"g/g\")"
   ]
  },
  {
   "cell_type": "markdown",
   "metadata": {},
   "source": [
    "# D:"
   ]
  },
  {
   "cell_type": "code",
   "execution_count": 36,
   "metadata": {
    "collapsed": false
   },
   "outputs": [
    {
     "name": "stdout",
     "output_type": "stream",
     "text": [
      "[[ 1.    0.    0.    1.    1.    0.  ]\n",
      " [ 2.    3.    0.    1.8   0.    2.  ]\n",
      " [ 1.    0.    2.    0.5   2.    1.  ]\n",
      " [ 0.    1.    0.    0.2   0.    0.  ]\n",
      " [ 0.    0.    0.    1.    0.    0.  ]\n",
      " [ 0.38  0.   -1.    0.    0.    0.  ]]\n",
      "[[-1.69354839]\n",
      " [-0.2       ]\n",
      " [-0.64354839]\n",
      " [ 1.        ]\n",
      " [ 0.69354839]\n",
      " [ 1.09354839]]\n",
      "1.0 cmolX/cmolX\n",
      "0.5904761904761904 cmolO/cmolX\n",
      "0.527709677419355 g/g\n"
     ]
    }
   ],
   "source": [
    "import numpy\n",
    "S = numpy.matrix([[1,0,0,1,1,0],\n",
    "                  [2,3,0,1.8,0,2],\n",
    "                  [1,0,2,0.5,2,1],                  \n",
    "                  [0,1,0,0.2,0,0],\n",
    "                  [0,0,0,1,0,0],\n",
    "                  [0.38,0,-1,0,0,0]])  \n",
    "\n",
    "print(S)\n",
    "\n",
    "\n",
    "\n",
    "# In[4]:\n",
    "\n",
    "C = numpy.matrix([[0,0,0,0,1,0]]).T\n",
    "Y = numpy.linalg.solve(S,C)\n",
    "print(Y)\n",
    "\n",
    "print(abs(float(Y[3])), \"cmolX/cmolX\")\n",
    "\n",
    "O2 = (abs(float(Y[2])))\n",
    "\n",
    "print(b, \"cmolO/cmolX\")\n",
    "\n",
    "a = abs((float(Y[2])*6.0*24.6)/180.0)\n",
    "\n",
    "print(abs(a), \"g/g\")"
   ]
  },
  {
   "cell_type": "markdown",
   "metadata": {},
   "source": [
    "now find ATP production"
   ]
  },
  {
   "cell_type": "code",
   "execution_count": 37,
   "metadata": {
    "collapsed": false
   },
   "outputs": [
    {
     "name": "stdout",
     "output_type": "stream",
     "text": [
      "2.50983870967742 molATP/cmolX\n"
     ]
    }
   ],
   "source": [
    "NADH = O2*(2.0*10.0/12.0)\n",
    "\n",
    "FADH = O2*(2.0*2.0/12.0) \n",
    "\n",
    "ATP = NADH*4.0/10.0 + (1.7*NADH + 1.2*FADH) \n",
    "\n",
    "print (ATP, \"molATP/cmolX\")"
   ]
  },
  {
   "cell_type": "markdown",
   "metadata": {},
   "source": [
    "# D alternative:"
   ]
  },
  {
   "cell_type": "code",
   "execution_count": 22,
   "metadata": {
    "collapsed": false
   },
   "outputs": [
    {
     "name": "stdout",
     "output_type": "stream",
     "text": [
      "[[ 1.   0.   0.   1.   1.   0. ]\n",
      " [ 2.   3.   0.   1.8  0.   2. ]\n",
      " [ 1.   0.   2.   0.5  2.   1. ]\n",
      " [ 0.   1.   0.   0.2  0.   0. ]\n",
      " [ 1.   0.   0.   0.   0.   0. ]\n",
      " [ 0.   0.   1.   0.   0.   0. ]]\n",
      "[[ 1.        ]\n",
      " [ 0.11809524]\n",
      " [ 0.38      ]\n",
      " [-0.59047619]\n",
      " [-0.40952381]\n",
      " [-0.64571429]]\n",
      "0.5904761904761904 cmolX/cmolGluc\n",
      "0.48419047619047617 g/g\n"
     ]
    }
   ],
   "source": [
    "import numpy\n",
    "S = numpy.matrix([[1,0,0,1,1,0],\n",
    "                  [2,3,0,1.8,0,2],\n",
    "                  [1,0,2,0.5,2,1],                  \n",
    "                  [0,1,0,0.2,0,0],\n",
    "                  [1,0,0,0,0,0],\n",
    "                  [0,0,1,0,0,0]])  \n",
    "\n",
    "print(S)\n",
    "\n",
    "\n",
    "\n",
    "# In[4]:\n",
    "\n",
    "C = numpy.matrix([[0,0,0,0,1,0.38]]).T\n",
    "Y = numpy.linalg.solve(S,C)\n",
    "print(Y)\n",
    "\n",
    "b = abs(float(Y[3]))\n",
    "\n",
    "print(b, \"cmolX/cmolGluc\")\n",
    "\n",
    "\n",
    "\n",
    "a = (float(Y[3])*6.0*24.6)/180.0\n",
    "\n",
    "print(abs(a), \"g/g\")"
   ]
  },
  {
   "cell_type": "markdown",
   "metadata": {},
   "source": [
    "now find ATP production"
   ]
  },
  {
   "cell_type": "code",
   "execution_count": 25,
   "metadata": {
    "collapsed": false
   },
   "outputs": [
    {
     "name": "stdout",
     "output_type": "stream",
     "text": [
      "0.6435483870967744 molO/cmolX\n"
     ]
    }
   ],
   "source": [
    "O2 = (1.0/b)*(float(Y[2]))\n",
    "\n",
    "print(O2, \"molO/cmolX\")"
   ]
  },
  {
   "cell_type": "code",
   "execution_count": 35,
   "metadata": {
    "collapsed": false
   },
   "outputs": [
    {
     "name": "stdout",
     "output_type": "stream",
     "text": [
      "2.50983870967742 molATP/cmolX\n"
     ]
    }
   ],
   "source": [
    "NADH = O2*(2.0*10.0/12.0)\n",
    "\n",
    "FADH = O2*(2.0*2.0/12.0) \n",
    "\n",
    "ATP = NADH*4.0/10.0 + (1.7*NADH + 1.2*FADH) \n",
    "\n",
    "print (ATP, \"molATP/cmolX\")"
   ]
  },
  {
   "cell_type": "code",
   "execution_count": null,
   "metadata": {
    "collapsed": true
   },
   "outputs": [],
   "source": []
  }
 ],
 "metadata": {
  "kernelspec": {
   "display_name": "Python 3",
   "language": "python",
   "name": "python3"
  },
  "language_info": {
   "codemirror_mode": {
    "name": "ipython",
    "version": 3
   },
   "file_extension": ".py",
   "mimetype": "text/x-python",
   "name": "python",
   "nbconvert_exporter": "python",
   "pygments_lexer": "ipython3",
   "version": "3.6.0"
  }
 },
 "nbformat": 4,
 "nbformat_minor": 0
}
