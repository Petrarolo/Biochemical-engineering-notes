{
 "metadata": {
  "name": "",
  "signature": "sha256:6b34335da3b2095bcc9cf9490118669d535a569a34650697f8491f6b1a0523dd"
 },
 "nbformat": 3,
 "nbformat_minor": 0,
 "worksheets": [
  {
   "cells": [
    {
     "cell_type": "heading",
     "level": 4,
     "metadata": {},
     "source": [
      "Question 2"
     ]
    },
    {
     "cell_type": "code",
     "collapsed": false,
     "input": [
      "from __future__ import division\n",
      "import numpy\n",
      "from scipy.integrate import odeint\n",
      "import matplotlib.pyplot as plt\n",
      "%matplotlib inline \n",
      "from numpy.linalg import matrix_rank"
     ],
     "language": "python",
     "metadata": {},
     "outputs": [],
     "prompt_number": 121
    },
    {
     "cell_type": "code",
     "collapsed": false,
     "input": [
      "# Constants\n",
      "'Biomass'\n",
      "C_x = 1\n",
      "H_x = 1.8\n",
      "O_x = 0.5\n",
      "N_x = 0.2\n",
      "\n",
      "DOR_x = 4*C_x + 1*H_x -2*O_x -3*N_x\n",
      "print DOR_x\n",
      "Mx = 12*C_x + H_x + 16*O_x + 14*N_x\n",
      "\n",
      "mu_max = 0.25\n",
      "theta_max = 0.08\n",
      "alpha = 0.1\n",
      "gamma = 2.2\n",
      "PO = 1.5\n",
      "\n",
      "beta = 0.5*(4*(1 + alpha) - DOR_x)\n",
      "print beta\n",
      "print Mx"
     ],
     "language": "python",
     "metadata": {},
     "outputs": [
      {
       "output_type": "stream",
       "stream": "stdout",
       "text": [
        "4.2\n",
        "0.1\n",
        "24.6\n"
       ]
      }
     ],
     "prompt_number": 122
    },
    {
     "cell_type": "code",
     "collapsed": false,
     "input": [
      "#--------------------------------------------------- Growth --------------------------------------------------------------------------\n",
      "S = numpy.matrix([[-1, 1 + alpha, 1, 0, 0, 0, 0, 0, 0, 0, 0, 0],  \n",
      "                  [0, 0, 1, -1.5, -0.75, 0, 0, 0, 0, 0, 0, 0],\n",
      "                  [0, 0, 0, 0, 1, -1, -1, 0, 0, 0, 0, 0],\n",
      "                  [0, 0, 0, 1, 0, 0, 1, -1, 0, 0, 0, 0],\n",
      "                  [0, 0, 0, 0, 0, 1, 0, 0, 1, -1,  0, 0],\n",
      "                  [0, alpha, 0, 0.5, -0.25, 0, 0, 1.0/3, 0, 0, 0, -1],\n",
      "                  [0, 0, 0, 2, 0, 0, -1, 0, 0, 0, 0, 0],\n",
      "                  [0, 0, 0, 0, 0, 0, 0, 2.0/3, -1, 0, 0, 0],\n",
      "                  [0, beta, 1.0/3, 0.5, 0, -0.5, 0, 0, 0.5, 0, -2, 0],\n",
      "                  [0, -gamma, 0, 0.5, 0.25, 0, 0, 0, 0.25, 0, 2*PO, 0], #***\n",
      "                  [0, 1, 0, 0, 0, 0, 0, 0, 0, 0, 0, 0],\n",
      "                  [0, 0, 0, 0, 0, 0, 0, 0, 0, 1, 0, 0], # zero succinate spec\n",
      "                  ], dtype=float)\n",
      "                 \n",
      "rank = matrix_rank(S)\n",
      "print rank\n",
      "\n",
      "C = numpy.matrix([[0, 0, 0, 0, 0, 0, 0, 0, 0, theta_max, mu_max, 0]]).T\n",
      "print 'Growth'\n",
      "r = numpy.linalg.solve(S,C)\n",
      "print(r)"
     ],
     "language": "python",
     "metadata": {},
     "outputs": [
      {
       "output_type": "stream",
       "stream": "stdout",
       "text": [
        "12\n",
        "Growth\n",
        "[[  4.36590909e-01]\n",
        " [  2.50000000e-01]\n",
        " [  1.61590909e-01]\n",
        " [  1.07727273e-01]\n",
        " [  2.77555756e-17]\n",
        " [ -2.15454545e-01]\n",
        " [  2.15454545e-01]\n",
        " [  3.23181818e-01]\n",
        " [  2.15454545e-01]\n",
        " [  0.00000000e+00]\n",
        " [  1.74090909e-01]\n",
        " [  1.86590909e-01]]\n"
       ]
      }
     ],
     "prompt_number": 123
    },
    {
     "cell_type": "code",
     "collapsed": false,
     "input": [
      "Ys=r/r[0,0]\n",
      "print Ys\n",
      "print 'Yield oxygen: ', float(Ys[10]), ' mol O2/ cmol gluc'"
     ],
     "language": "python",
     "metadata": {},
     "outputs": [
      {
       "output_type": "stream",
       "stream": "stdout",
       "text": [
        "[[  1.00000000e+00]\n",
        " [  5.72618428e-01]\n",
        " [  3.70119729e-01]\n",
        " [  2.46746486e-01]\n",
        " [  6.35734163e-17]\n",
        " [ -4.93492972e-01]\n",
        " [  4.93492972e-01]\n",
        " [  7.40239459e-01]\n",
        " [  4.93492972e-01]\n",
        " [  0.00000000e+00]\n",
        " [  3.98750651e-01]\n",
        " [  4.27381572e-01]]\n",
        "Yield oxygen:  0.398750650703  mol O2/ cmol gluc\n"
       ]
      }
     ],
     "prompt_number": 124
    },
    {
     "cell_type": "heading",
     "level": 4,
     "metadata": {},
     "source": [
      "Question 3"
     ]
    },
    {
     "cell_type": "code",
     "collapsed": false,
     "input": [
      "print 'Yield biomass: ', float(Ys[1]), ' cmol X/ cmol gluc'\n",
      "print 'Yield biomas: ', float(Ys[1])*(Mx/30), ' g X/ g gluc'"
     ],
     "language": "python",
     "metadata": {},
     "outputs": [
      {
       "output_type": "stream",
       "stream": "stdout",
       "text": [
        "Yield biomass:  0.572618427902  cmol X/ cmol gluc\n",
        "Yield biomas:  0.46954711088  g X/ g gluc\n"
       ]
      }
     ],
     "prompt_number": 125
    },
    {
     "cell_type": "heading",
     "level": 4,
     "metadata": {},
     "source": [
      "Question 6"
     ]
    },
    {
     "cell_type": "code",
     "collapsed": false,
     "input": [
      "'Aerobic growth - no product formation'\n",
      "Km_g = 50.0/(1000*30)\n",
      "Km_m = 5.0/(1000*30)\n",
      "\n",
      "Cs = numpy.linspace(2.0/30, 140.0/30, 100)\n",
      "perlys = []\n",
      "\n",
      "for i in range(0, len(Cs),1):\n",
      "    mu = mu_max*(Cs[i]/(Km_g + Cs[i]))\n",
      "\n",
      "    percentage = (mu_max - mu)/mu_max*100\n",
      "\n",
      "    perlys.append(percentage)\n",
      "    \n",
      "print 'Maximum percentage decrease: ',max(perlys)\n",
      "\n",
      "#Cs = 2/30\n",
      "#percentage = 100 - (Cs/(Km_g + Cs))*100\n",
      "#print percentage\n"
     ],
     "language": "python",
     "metadata": {},
     "outputs": [
      {
       "output_type": "stream",
       "stream": "stdout",
       "text": [
        "Maximum percentage decrease:  2.43902439024\n"
       ]
      }
     ],
     "prompt_number": 126
    },
    {
     "cell_type": "heading",
     "level": 4,
     "metadata": {},
     "source": [
      "Question 7"
     ]
    },
    {
     "cell_type": "code",
     "collapsed": false,
     "input": [
      "kla = 200\n",
      "C_o2_sat = 31/(1000*32)\n",
      "\n",
      "r_o2_max = kla*C_o2_sat\n",
      "print r_o2_max"
     ],
     "language": "python",
     "metadata": {},
     "outputs": [
      {
       "output_type": "stream",
       "stream": "stdout",
       "text": [
        "0.19375\n"
       ]
      }
     ],
     "prompt_number": 127
    },
    {
     "cell_type": "code",
     "collapsed": false,
     "input": [
      "r_x = r[10]\n",
      "Cx = r_o2_max/ r_x\n",
      "print Cx\n",
      "\n",
      "print 'Biomass concentration: ', float(Cx)*Mx*0.21, 'g/L' # lug word gevoer en nie suurstof nie - net 21% van dit is bruikbaar"
     ],
     "language": "python",
     "metadata": {},
     "outputs": [
      {
       "output_type": "stream",
       "stream": "stdout",
       "text": [
        "[[ 1.11292428]]\n",
        "Biomass concentration:  5.74936684073 g/L\n"
       ]
      }
     ],
     "prompt_number": 128
    },
    {
     "cell_type": "heading",
     "level": 4,
     "metadata": {},
     "source": [
      "Question 8"
     ]
    },
    {
     "cell_type": "code",
     "collapsed": false,
     "input": [
      "Cx_final = 8/Mx\n",
      "print Cx_final"
     ],
     "language": "python",
     "metadata": {},
     "outputs": [
      {
       "output_type": "stream",
       "stream": "stdout",
       "text": [
        "0.325203252033\n"
       ]
      }
     ],
     "prompt_number": 129
    },
    {
     "cell_type": "code",
     "collapsed": false,
     "input": [
      "mu = mu_max\n",
      "theta = theta_max\n",
      "r_o2_max = kla*C_o2_sat*0.21"
     ],
     "language": "python",
     "metadata": {},
     "outputs": [],
     "prompt_number": 130
    },
    {
     "cell_type": "code",
     "collapsed": false,
     "input": [
      "S = numpy.matrix([[-1, 1 + alpha, 1, 0, 0, 0, 0, 0, 0, 0, 0, 0],  \n",
      "                  [0, 0, 1, -1.5, -0.75, 0, 0, 0, 0, 0, 0, 0],\n",
      "                  [0, 0, 0, 0, 1, -1, -1, 0, 0, 0, 0, 0],\n",
      "                  [0, 0, 0, 1, 0, 0, 1, -1, 0, 0, 0, 0],\n",
      "                  [0, 0, 0, 0, 0, 1, 0, 0, 1, -1,  0, 0],\n",
      "                  [0, alpha, 0, 0.5, -0.25, 0, 0, 1.0/3, 0, 0, 0, -1],\n",
      "                  [0, 0, 0, 2, 0, 0, -1, 0, 0, 0, 0, 0],\n",
      "                  [0, 0, 0, 0, 0, 0, 0, 2.0/3, -1, 0, 0, 0],\n",
      "                  [0, beta, 1.0/3, 0.5, 0, -0.5, 0, 0, 0.5, 0, -2, 0],\n",
      "                  [0, -gamma, 0, 0.5, 0.25, 0, 0, 0, 0.25, 0, 2*PO, 0], #***\n",
      "                  [0, 0, 0, 0, 0, 0, 0, 0, 0, 0, 1, 0],\n",
      "                  [0, 0, 0, 0, 0, 0, 0, 0, 0, 1, 0, 0], # zero succinate spec\n",
      "                  ], dtype=float)\n",
      "\n",
      "C = numpy.matrix([[0, 0, 0, 0, 0, 0, 0, 0, 0, theta_max, r_o2_max/Cx_final, 0]]).T\n",
      "r = numpy.linalg.solve(S,C)\n",
      "print(r)"
     ],
     "language": "python",
     "metadata": {},
     "outputs": [
      {
       "output_type": "stream",
       "stream": "stdout",
       "text": [
        "[[ 0.30318383]\n",
        " [ 0.16959025]\n",
        " [ 0.11663455]\n",
        " [ 0.07775637]\n",
        " [ 0.        ]\n",
        " [-0.15551273]\n",
        " [ 0.15551273]\n",
        " [ 0.2332691 ]\n",
        " [ 0.15551273]\n",
        " [ 0.        ]\n",
        " [ 0.12511406]\n",
        " [ 0.13359358]]\n"
       ]
      }
     ],
     "prompt_number": 131
    },
    {
     "cell_type": "code",
     "collapsed": false,
     "input": [
      "print 'mu: ', float(r[1]), '1/h'"
     ],
     "language": "python",
     "metadata": {},
     "outputs": [
      {
       "output_type": "stream",
       "stream": "stdout",
       "text": [
        "mu:  0.169590251866 1/h\n"
       ]
      }
     ],
     "prompt_number": 132
    },
    {
     "cell_type": "heading",
     "level": 4,
     "metadata": {},
     "source": [
      "Question 9"
     ]
    },
    {
     "cell_type": "code",
     "collapsed": false,
     "input": [
      "'Maintenance'\n",
      "S = numpy.matrix([[-1, 1 + alpha, 1, 0, 0, 0, 0, 0, 0, 0, 0, 0],  \n",
      "                  [0, 0, 1, -1.5, -0.75, 0, 0, 0, 0, 0, 0, 0],\n",
      "                  [0, 0, 0, 0, 1, -1, -1, 0, 0, 0, 0, 0],\n",
      "                  [0, 0, 0, 1, 0, 0, 1, -1, 0, 0, 0, 0],\n",
      "                  [0, 0, 0, 0, 0, 1, 0, 0, 1, -1,  0, 0],\n",
      "                  [0, alpha, 0, 0.5, -0.25, 0, 0, 1.0/3, 0, 0, 0, -1],\n",
      "                  [0, 0, 0, 2, 0, 0, -1, 0, 0, 0, 0, 0],\n",
      "                  [0, 0, 0, 0, 0, 0, 0, 2.0/3, -1, 0, 0, 0],\n",
      "                  [0, beta, 1.0/3, 0.5, 0, -0.5, 0, 0, 0.5, 0, -2, 0],\n",
      "                  [0, -gamma, 0, 0.5, 0.25, 0, 0, 0, 0.25, 0, 2*PO, 0], #***\n",
      "                  [0, 1, 0, 0, 0, 0, 0, 0, 0, 0, 0, 0],\n",
      "                  [0, 0, 0, 0, 0, 0, 0, 0, 0, 1, 0, 0], # zero succinate spec\n",
      "                  ], dtype=float)\n",
      "\n",
      "C = numpy.matrix([[0, 0, 0, 0, 0, 0, 0, 0, 0, theta_max, 0, 0]]).T\n",
      "r = numpy.linalg.solve(S,C)\n",
      "\n",
      "Ys=r/r[0,0]\n",
      "print Ys"
     ],
     "language": "python",
     "metadata": {},
     "outputs": [
      {
       "output_type": "stream",
       "stream": "stdout",
       "text": [
        "[[  1.00000000e+00]\n",
        " [  3.61400724e-17]\n",
        " [  1.00000000e+00]\n",
        " [  6.66666667e-01]\n",
        " [  0.00000000e+00]\n",
        " [ -1.33333333e+00]\n",
        " [  1.33333333e+00]\n",
        " [  2.00000000e+00]\n",
        " [  1.33333333e+00]\n",
        " [  0.00000000e+00]\n",
        " [  1.00000000e+00]\n",
        " [  1.00000000e+00]]\n"
       ]
      }
     ],
     "prompt_number": 133
    },
    {
     "cell_type": "code",
     "collapsed": false,
     "input": [
      "Ysatp_m = 1/2*Ys[3] + 1/4*Ys[4] + 2*PO*Ys[10] + 1/4*Ys[8]\n",
      "Yatps_m = 1/Ysatp_m\n",
      "print Yatps_m"
     ],
     "language": "python",
     "metadata": {},
     "outputs": [
      {
       "output_type": "stream",
       "stream": "stdout",
       "text": [
        "[[ 0.27272727]]\n"
       ]
      }
     ],
     "prompt_number": 134
    },
    {
     "cell_type": "code",
     "collapsed": false,
     "input": [
      "r_s_maint = theta_max/Ysatp_m\n",
      "print 'rs_M =', float(r_s_maint*(30/Mx)), 'g gluc/ g X'"
     ],
     "language": "python",
     "metadata": {},
     "outputs": [
      {
       "output_type": "stream",
       "stream": "stdout",
       "text": [
        "rs_M = 0.0266075388027 g gluc/ g X\n"
       ]
      }
     ],
     "prompt_number": 135
    },
    {
     "cell_type": "heading",
     "level": 4,
     "metadata": {},
     "source": [
      "Question 10"
     ]
    },
    {
     "cell_type": "markdown",
     "metadata": {},
     "source": [
      "Same as question 7"
     ]
    },
    {
     "cell_type": "heading",
     "level": 4,
     "metadata": {},
     "source": [
      "Question 11"
     ]
    },
    {
     "cell_type": "code",
     "collapsed": false,
     "input": [
      "Csa_max = 35/29.5\n",
      "\n",
      "Csa = 14/29.5\n",
      "Cx = 12/Mx\n",
      "\n",
      "mu = mu_max*(1 - Csa/Csa_max)\n",
      "print mu"
     ],
     "language": "python",
     "metadata": {},
     "outputs": [
      {
       "output_type": "stream",
       "stream": "stdout",
       "text": [
        "0.15\n"
       ]
      }
     ],
     "prompt_number": 136
    },
    {
     "cell_type": "heading",
     "level": 4,
     "metadata": {},
     "source": [
      "Question 12"
     ]
    },
    {
     "cell_type": "code",
     "collapsed": false,
     "input": [
      "kLa = 200\n",
      "r_o2_mtmax= kLa*C_o2_sat*0.21\n",
      "\n",
      "'Instantaneous yield = r_p_prime/r_s_prime'\n",
      "S = numpy.matrix([[-1, 1 + alpha, 1, 0, 0, 0, 0, 0, 0, 0, 0, 0],  \n",
      "                  [0, 0, 1, -1.5, -0.75, 0, 0, 0, 0, 0, 0, 0],\n",
      "                  [0, 0, 0, 0, 1, -1, -1, 0, 0, 0, 0, 0],\n",
      "                  [0, 0, 0, 1, 0, 0, 1, -1, 0, 0, 0, 0],\n",
      "                  [0, 0, 0, 0, 0, 1, 0, 0, 1, -1,  0, 0],\n",
      "                  [0, alpha, 0, 0.5, -0.25, 0, 0, 1.0/3, 0, 0, 0, -1],\n",
      "                  [0, 0, 0, 2, 0, 0, -1, 0, 0, 0, 0, 0],\n",
      "                  [0, 0, 0, 0, 0, 0, 0, 2.0/3, -1, 0, 0, 0],\n",
      "                  [0, beta, 1.0/3, 0.5, 0, -0.5, 0, 0, 0.5, 0, -2, 0],\n",
      "                  [0, -gamma, 0, 0.5, 0.25, 0, 0, 0, 0.25, 0, 2*PO, 0], #***\n",
      "                  [0, 1, 0, 0, 0, 0, 0, 0, 0, 0, 0, 0],\n",
      "                  [0, 0, 0, 0, 0, 0, 0, 0, 0, 0, 1, 0], # zero succinate spec\n",
      "                  ], dtype=float)\n",
      "\n",
      "C = numpy.matrix([[0, 0, 0, 0, 0, 0, 0, 0, 0, theta_max, mu, r_o2_max/Cx]]).T\n",
      "r = numpy.linalg.solve(S,C)\n",
      "\n",
      "Y_sa_inst = r[9]/r[0]\n",
      "print 'Instantaneous yield =', float(Y_sa_inst), 'cmol SA/cmol gl'"
     ],
     "language": "python",
     "metadata": {},
     "outputs": [
      {
       "output_type": "stream",
       "stream": "stdout",
       "text": [
        "Instantaneous yield = 0.620883478817 cmol SA/cmol gl\n"
       ]
      }
     ],
     "prompt_number": 137
    },
    {
     "cell_type": "heading",
     "level": 4,
     "metadata": {},
     "source": [
      "Question 13"
     ]
    },
    {
     "cell_type": "code",
     "collapsed": false,
     "input": [
      "r_sa12 = r[9]\n",
      "print r_sa12"
     ],
     "language": "python",
     "metadata": {},
     "outputs": [
      {
       "output_type": "stream",
       "stream": "stdout",
       "text": [
        "[[ 0.55687266]]\n"
       ]
      }
     ],
     "prompt_number": 142
    },
    {
     "cell_type": "code",
     "collapsed": false,
     "input": [
      "kla = 150\n",
      "r_o2_max = kla*C_o2_sat*0.21\n",
      "print r_o2_max\n",
      "\n",
      "S = numpy.matrix([[-1, 1 + alpha, 1, 0, 0, 0, 0, 0, 0, 0, 0, 0],  \n",
      "                  [0, 0, 1, -1.5, -0.75, 0, 0, 0, 0, 0, 0, 0],\n",
      "                  [0, 0, 0, 0, 1, -1, -1, 0, 0, 0, 0, 0],\n",
      "                  [0, 0, 0, 1, 0, 0, 1, -1, 0, 0, 0, 0],\n",
      "                  [0, 0, 0, 0, 0, 1, 0, 0, 1, -1,  0, 0],\n",
      "                  [0, alpha, 0, 0.5, -0.25, 0, 0, 1.0/3, 0, 0, 0, -1],\n",
      "                  [0, 0, 0, 2, 0, 0, -1, 0, 0, 0, 0, 0],\n",
      "                  [0, 0, 0, 0, 0, 0, 0, 2.0/3, -1, 0, 0, 0],\n",
      "                  [0, beta, 1.0/3, 0.5, 0, -0.5, 0, 0, 0.5, 0, -2, 0],\n",
      "                  [0, -gamma, 0, 0.5, 0.25, 0, 0, 0, 0.25, 0, 2*PO, 0], #***\n",
      "                  [0, 1, 0, 0, 0, 0, 0, 0, 0, 0, 0, 0],\n",
      "                  [0, 0, 0, 0, 0, 0, 0, 0, 0, 0, 1, 0], # zero succinate spec\n",
      "                  ], dtype=float)\n",
      "\n",
      "C = numpy.matrix([[0, 0, 0, 0, 0, 0, 0, 0, 0, theta_max, mu, r_o2_max/Cx]]).T\n",
      "r = numpy.linalg.solve(S,C)"
     ],
     "language": "python",
     "metadata": {},
     "outputs": [
      {
       "output_type": "stream",
       "stream": "stdout",
       "text": [
        "0.030515625\n"
       ]
      }
     ],
     "prompt_number": 143
    },
    {
     "cell_type": "code",
     "collapsed": false,
     "input": [
      "r_sa13 = r[9]\n",
      "print r_sa13"
     ],
     "language": "python",
     "metadata": {},
     "outputs": [
      {
       "output_type": "stream",
       "stream": "stdout",
       "text": [
        "[[ 0.55687266]]\n"
       ]
      }
     ],
     "prompt_number": 144
    },
    {
     "cell_type": "code",
     "collapsed": false,
     "input": [
      "ratio = r_sa13/r_sa12\n",
      "print ratio"
     ],
     "language": "python",
     "metadata": {},
     "outputs": [
      {
       "output_type": "stream",
       "stream": "stdout",
       "text": [
        "[[ 1.70039075]]\n"
       ]
      }
     ],
     "prompt_number": 141
    },
    {
     "cell_type": "heading",
     "level": 4,
     "metadata": {},
     "source": [
      "Question 14"
     ]
    },
    {
     "cell_type": "code",
     "collapsed": false,
     "input": [],
     "language": "python",
     "metadata": {},
     "outputs": []
    }
   ],
   "metadata": {}
  }
 ]
}