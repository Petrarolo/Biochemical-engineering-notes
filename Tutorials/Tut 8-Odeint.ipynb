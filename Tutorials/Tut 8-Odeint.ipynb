{
 "cells": [
  {
   "cell_type": "code",
   "execution_count": 7,
   "metadata": {
    "collapsed": true
   },
   "outputs": [],
   "source": [
    "import numpy\n",
    "import matplotlib.pyplot as plt\n",
    "from numpy import vstack, array\n",
    "import math\n"
   ]
  },
  {
   "cell_type": "code",
   "execution_count": 12,
   "metadata": {
    "collapsed": true
   },
   "outputs": [],
   "source": [
    "def odeint(function, initial, time):\n",
    "    \n",
    "    length = time[1] - time[0]\n",
    "    intvals = array(initial)\n",
    "    matrix = intvals\n",
    "    \n",
    "    for n in range(len(time)-1):\n",
    "        \n",
    "        DE1 = function(intvals, 0)\n",
    "        DE = array(DE1)\n",
    "        initial_new = intvals + DE*length\n",
    "        matrix = vstack([matrix, initial_new])\n",
    "        intvals = initial_new\n",
    "\n",
    "        \n",
    "    return matrix"
   ]
  },
  {
   "cell_type": "markdown",
   "metadata": {},
   "source": [
    "### Tutorial 8\n",
    "\n",
    "\n",
    "We will continue with the _A.succinogenes_ example of [tut 4](https://nbviewer.jupyter.org/github/willienicol/Biochemical-engineering-notes/blob/master/Tutorials/Tut%204.ipynb). \n",
    "\n",
    "<img src=\"succmap_num.png\" width=\"550\" />\n",
    "\n",
    "The fluxes are numbered in the figure above and the first seven equations of the model is supplied in hidden format in [Tut8eq.xlsx](https://github.com/willienicol/Biochemical-engineering-notes/blob/master/Tutorials/Tut8eq.xlsx). Equation 7 represents the energy balance. All equations are equal to zero except the energy balance that is equal to $\\theta$. All rates correspond to the flux numbers on the map.\n",
    "\n",
    "You can use your own model or the supplied model. Assume the absence of pyruvate formate lyase (PFL). \n",
    "\n",
    "The physiological parameters can be taken as:\n",
    "\n",
    "|$\\alpha \\qquad \\qquad$|$\\gamma \\qquad \\qquad $|$\\mu \\qquad$|$\\theta\\qquad$\n",
    "|----|-|-|-|-\n",
    "|$\\frac{\\text{cmol $CO_2$}}{\\text{cmol X}}$|$\\frac{\\text{mol ATP}}{\\text{cmol X}}$|$\\frac{1}{\\text{h}}$|$\\frac{\\text{mol ATP}}{\\text{cmol X}\\cdot \\text{h}}$\n",
    "|0.12|1.8|0.15|0.1\n",
    "\n",
    "The biomass formula is given by $CH_{1.9}O_{0.45}N_{0.23}$\n",
    "\n",
    "It is easy to transfer the $7 \\times 9$ matrix into Python and add specification equations. You can use the code below. Ensure that the Excel file is in the same directory as the Jupyter notebook file.\n"
   ]
  },
  {
   "cell_type": "code",
   "execution_count": 13,
   "metadata": {
    "collapsed": false
   },
   "outputs": [
    {
     "name": "stdout",
     "output_type": "stream",
     "text": [
      "[[-0.1   0.11  0.4  -0.7  -0.3   0.    0.4   0.4   0.4 ]\n",
      " [ 0.    0.   -0.1   0.4   0.63 -0.4  -0.3  -0.3  -0.3 ]\n",
      " [ 0.    0.    0.    0.17 -0.4   0.3   0.1   0.1  -0.3 ]\n",
      " [ 0.    0.03  0.13 -0.2   0.13 -0.3   0.    0.4   0.3 ]\n",
      " [ 0.   -0.03 -0.1   0.13  0.    0.15  0.   -0.3  -0.2 ]\n",
      " [ 0.    0.02  0.07 -0.1  -0.4   0.2   0.1   0.3   0.1 ]\n",
      " [ 0.   -1.82 -0.07  0.53  0.33  0.27  0.   -0.2   0.2 ]\n",
      " [ 0.    1.    0.    0.    0.    0.    0.    0.    0.  ]\n",
      " [ 0.    0.    0.    0.    0.    0.    1.    0.    0.  ]]\n"
     ]
    }
   ],
   "source": [
    "import pandas, numpy\n",
    "S1 = numpy.matrix(pandas.read_excel('Tut8eq.xlsx'))\n",
    "S = numpy.vstack([S1,[0,1,0,0,0,0,0,0,0],[0,0,0,0,0,0,1,0,0]]) # Adding mu and zero PFL spec.\n",
    "\n",
    "print(numpy.round(S, 2))"
   ]
  },
  {
   "cell_type": "markdown",
   "metadata": {},
   "source": [
    "a) Given an initial glucose concentration of 100 $\\frac{\\text{g}}{\\text{L}}$ and biomass concentration of 0.001 $\\frac{\\text{cmol X}}{\\text{L}}$, determine the time required to convert all the glucose. [43.9h] "
   ]
  },
  {
   "cell_type": "code",
   "execution_count": 14,
   "metadata": {
    "collapsed": true
   },
   "outputs": [],
   "source": [
    "def response_fun(C):\n",
    "    \n",
    "    if C[0]<=0:               # glucose concentration\n",
    "        return [0,0,0,0,0,0,0,0,0] \n",
    "    \n",
    "    else:\n",
    "        mu, theta= 0.15,0.1\n",
    "\n",
    "        K = numpy.matrix([0, 0, 0, 0, 0, 0, theta, mu, 0]).T\n",
    "        r = numpy.linalg.solve(S, K) \n",
    "\n",
    "        return ([-r[0,0],   # important to see the order of the rates (X,S,G,E)\n",
    "                r[1,0],\n",
    "                r[2,0],    # glucose, note the negative since the flux model calculated (-rs)\n",
    "                r[3,0],   # glycerol\n",
    "                r[4,0],\n",
    "                r[5,0],    # glucose, note the negative since the flux model calculated (-rs)\n",
    "                r[6,0],   # glycerol\n",
    "                r[7,0],\n",
    "                r[8,0]])   # ethanol   "
   ]
  },
  {
   "cell_type": "code",
   "execution_count": 15,
   "metadata": {
    "collapsed": true
   },
   "outputs": [],
   "source": [
    "def ferm_eq(C,t):\n",
    "      # order of components very important \n",
    "    r=response_fun(C)      # this is the 'fetching' from the response function\n",
    "    \n",
    "    return [r[0]*C[1],\n",
    "            r[1]*C[1],    \n",
    "            r[2]*C[1],\n",
    "            r[3]*C[1],\n",
    "            r[4]*C[1],\n",
    "            r[5]*C[1],    \n",
    "            r[6]*C[1],\n",
    "            r[7]*C[1],\n",
    "            r[8]*C[1]]   "
   ]
  },
  {
   "cell_type": "code",
   "execution_count": 17,
   "metadata": {
    "collapsed": false
   },
   "outputs": [
    {
     "name": "stdout",
     "output_type": "stream",
     "text": [
      "2000\n",
      "[[  4.11184211e+00   1.00000000e-03   0.00000000e+00 ...,   0.00000000e+00\n",
      "    0.00000000e+00   0.00000000e+00]\n",
      " [  4.11182421e+00   1.00337669e-03   1.41092812e-05 ...,   0.00000000e+00\n",
      "    1.47202508e-06   2.94405015e-06]\n",
      " [  4.11180626e+00   1.00676478e-03   2.82662051e-05 ...,   0.00000000e+00\n",
      "    2.94902072e-06   5.89804144e-06]\n",
      " ..., \n",
      " [ -9.16287602e-03   7.78777407e-01   3.24989429e+00 ...,   0.00000000e+00\n",
      "    3.39062338e-01   6.78124677e-01]\n",
      " [ -9.16287602e-03   7.78777407e-01   3.24989429e+00 ...,   0.00000000e+00\n",
      "    3.39062338e-01   6.78124677e-01]\n",
      " [ -9.16287602e-03   7.78777407e-01   3.24989429e+00 ...,   0.00000000e+00\n",
      "    3.39062338e-01   6.78124677e-01]]\n"
     ]
    },
    {
     "data": {
      "image/png": "[encoded data removed]",
      "text/plain": [
       "<matplotlib.figure.Figure at 0x18c1b99de48>"
      ]
     },
     "metadata": {},
     "output_type": "display_data"
    }
   ],
   "source": [
    "Co=[100/24.32, 0.001, 0, 0, 0, 0, 0, 0, 0]                     # [Cxo, Cso, Cgo, Ceo] in cmol/L\n",
    "tmax=45                                    # Integrate for 20 hours  \n",
    "tspan=numpy.linspace(0,tmax,2000)           # define the timespan of the integration\n",
    "C = odeint(ferm_eq, Co, tspan)             # integration via odeint that calls apon ferm_eq\n",
    "\n",
    "print(len(C))\n",
    "\n",
    "print (C)\n",
    "\n",
    "Cs=C[:,0]\n",
    "Cx=C[:,1]                                  \n",
    "\n",
    "Csa=C[:,5]\n",
    "Ce=C[:,3]\n",
    "\n",
    "#plt.plot(tspan, Ce, color='blue', label='e')\n",
    "plt.plot(tspan, Csa, color='cyan', label='sa')\n",
    "plt.plot(tspan, Cs, color='red',label='s')\n",
    "plt.plot(tspan, Cx, color='green',label='x')\n",
    "plt.legend(loc='best')\n",
    "plt.ylabel('Concentration cmol/L') \n",
    "plt.xlabel('time (h)') \n",
    "plt.show()"
   ]
  },
  {
   "cell_type": "code",
   "execution_count": 18,
   "metadata": {
    "collapsed": false
   },
   "outputs": [
    {
     "name": "stdout",
     "output_type": "stream",
     "text": [
      "44.44487586566198\n"
     ]
    }
   ],
   "source": [
    "tfin=numpy.interp(0,Cs[::-1],tspan[::-1])\n",
    "print(tfin)"
   ]
  },
  {
   "cell_type": "markdown",
   "metadata": {},
   "source": [
    "b) Determine the yield of succinic acid on glucose in $\\frac{cmol}{cmol}$ by taking the amount of glucose converted and succininc acid formed throughout the whole run. How does this compare to the yields that the stoichiometric matrix predict and why? [0.722]"
   ]
  },
  {
   "cell_type": "code",
   "execution_count": 19,
   "metadata": {
    "collapsed": false
   },
   "outputs": [
    {
     "name": "stdout",
     "output_type": "stream",
     "text": [
      "0.723992543994\n"
     ]
    }
   ],
   "source": [
    "Ys_sa = Csa[1999]/Cs[0]\n",
    "print(Ys_sa)"
   ]
  },
  {
   "cell_type": "markdown",
   "metadata": {},
   "source": [
    "c) Solve analytically for the biomass equation in the fermenter equation and plot against the answer obtained in (a). Integrate upto 45 hours. Why is it possible to solve for the biomass profile separately? At what point in time do the two profiles vary and why? "
   ]
  },
  {
   "cell_type": "markdown",
   "metadata": {},
   "source": [
    "It is because mu is consant (until there is no more biomass then it becomes zero)"
   ]
  },
  {
   "cell_type": "code",
   "execution_count": 20,
   "metadata": {
    "collapsed": false
   },
   "outputs": [
    {
     "data": {
      "image/png": "[encoded data removed]",
      "text/plain": [
       "<matplotlib.figure.Figure at 0x18c1bd06f60>"
      ]
     },
     "metadata": {},
     "output_type": "display_data"
    }
   ],
   "source": [
    "mu = 0.15\n",
    "\n",
    "time = numpy.linspace(0, 45, 200)\n",
    "list1 = []\n",
    "\n",
    "for i in range(2000):\n",
    "    \n",
    "    X = 0.001*math.exp(mu*tspan[i]) \n",
    "    \n",
    "    list1.append(X)\n",
    "\n",
    "    \n",
    "plt.plot(tspan, list1, color='k',label='x')\n",
    "plt.plot(tspan, Cx, color='green',label='x')\n",
    "plt.legend(loc='best')\n",
    "plt.ylabel('Concentration cmol/L') \n",
    "plt.xlabel('time (h)') \n",
    "plt.show()"
   ]
  },
  {
   "cell_type": "markdown",
   "metadata": {},
   "source": [
    "d) Plot the rate of succinic acid production ($r_{SA}$) against time and comment."
   ]
  },
  {
   "cell_type": "code",
   "execution_count": 21,
   "metadata": {
    "collapsed": false
   },
   "outputs": [
    {
     "data": {
      "image/png": "[encoded data removed]",
      "text/plain": [
       "<matplotlib.figure.Figure at 0x18c1bd064a8>"
      ]
     },
     "metadata": {},
     "output_type": "display_data"
    }
   ],
   "source": [
    "rSA = []\n",
    "\n",
    "for n in range(2000):\n",
    "    \n",
    "    r = response_fun(C[n])\n",
    "    rSA.append(r[5])\n",
    "\n",
    "plt.plot(tspan, rSA, color='green',label='x')\n",
    "#plt.legend(loc='best')\n",
    "plt.ylabel('rate (cmol sa/cmolX.h)') \n",
    "plt.xlabel('time (h)') \n",
    "plt.show()"
   ]
  },
  {
   "cell_type": "markdown",
   "metadata": {},
   "source": [
    "e) Plot the volumetric rate of succininc acid production ($r^V_{SA}$) against time and comment.\n",
    "\n",
    "<img src=\"tut8e.png\" width=\"500\" />"
   ]
  },
  {
   "cell_type": "code",
   "execution_count": 22,
   "metadata": {
    "collapsed": false
   },
   "outputs": [
    {
     "data": {
      "image/png": "[encoded data removed]",
      "text/plain": [
       "<matplotlib.figure.Figure at 0x18c1c1b7630>"
      ]
     },
     "metadata": {},
     "output_type": "display_data"
    }
   ],
   "source": [
    "rSA_v = []\n",
    "\n",
    "for n in range(2000):\n",
    "    \n",
    "    r = ferm_eq(C[n], 0)\n",
    "\n",
    "    rx_v=r[1] \n",
    "    rsa_v=r[5]\n",
    "    \n",
    "    rSA_v.append(rsa_v)\n",
    "\n",
    "plt.plot(tspan, rSA_v, color='green',label='x')\n",
    "plt.legend(loc='best')\n",
    "plt.ylabel('rate (cmol sa/L.h)') \n",
    "plt.xlabel('time (h)') \n",
    "plt.show()"
   ]
  },
  {
   "cell_type": "markdown",
   "metadata": {},
   "source": [
    "f) If the initial biomass concentration is changed to 0.0001 $\\frac{\\text{cmol X}}{\\text{L}}$, how long will it take to convert all the glucose? [58.4h] "
   ]
  },
  {
   "cell_type": "markdown",
   "metadata": {},
   "source": [
    "g) Change the glucose initial concentration to 60 $\\frac{\\text{g}}{\\text{L}}$ and determine how long it will take to convert all the glucose by using $C^O_X$ of (f)? [55.2h]  "
   ]
  },
  {
   "cell_type": "markdown",
   "metadata": {},
   "source": [
    "h) For the conditions in (g), what is the succininc acid concentration in $\\frac{cmol}{L}$ after 20 hours? [0.692]"
   ]
  },
  {
   "cell_type": "markdown",
   "metadata": {},
   "source": [
    "i) Assume that $\\theta=0$ and determine how long will it take to convert all the glucose by using the conditions of (g). Comment on your answer.[56.6h] "
   ]
  },
  {
   "cell_type": "markdown",
   "metadata": {},
   "source": [
    "j) Plot the succininc acid profiles of (g) and (i) on the same graph and comment.\n",
    "\n",
    "<img src=\"tut8j.png\" width=\"500\" />"
   ]
  },
  {
   "cell_type": "markdown",
   "metadata": {},
   "source": [
    "[Back to all tutorials](http://localhost:8888/notebooks/Dropbox/1_CBI%20310/2017/Tutorials/All%20tutorials.ipynb)"
   ]
  },
  {
   "cell_type": "code",
   "execution_count": null,
   "metadata": {
    "collapsed": true
   },
   "outputs": [],
   "source": []
  }
 ],
 "metadata": {
  "kernelspec": {
   "display_name": "Python 3",
   "language": "python",
   "name": "python3"
  },
  "language_info": {
   "codemirror_mode": {
    "name": "ipython",
    "version": 3
   },
   "file_extension": ".py",
   "mimetype": "text/x-python",
   "name": "python",
   "nbconvert_exporter": "python",
   "pygments_lexer": "ipython3",
   "version": "3.6.0"
  }
 },
 "nbformat": 4,
 "nbformat_minor": 0
}
