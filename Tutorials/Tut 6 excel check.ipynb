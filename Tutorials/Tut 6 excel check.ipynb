{
 "cells": [
  {
   "cell_type": "markdown",
   "metadata": {},
   "source": [
    "tut 6 excel check"
   ]
  },
  {
   "cell_type": "code",
   "execution_count": null,
   "metadata": {
    "collapsed": false
   },
   "outputs": [],
   "source": []
  },
  {
   "cell_type": "code",
   "execution_count": 36,
   "metadata": {
    "collapsed": false
   },
   "outputs": [
    {
     "name": "stdout",
     "output_type": "stream",
     "text": [
      "[[ 0.2        -0.2475     -0.2         0.33333333 -1.          1.        ]\n",
      " [ 0.8        -0.88917    -1.          0.311111   -0.13333     0.333333  ]\n",
      " [-0.2         0.25025     0.2        -0.36667     1.1        -1.1       ]\n",
      " [ 0.55       -2.71817    -0.88333     0.111111    0.66666667  3.33333333]\n",
      " [ 0.          0.          0.          0.          0.          1.        ]\n",
      " [ 0.          1.          0.          0.          0.          0.        ]]\n"
     ]
    }
   ],
   "source": [
    "import numpy\n",
    "\n",
    "alpha,beta, theta = 0.1,0.055, 0.02\n",
    "r1, r5 = 0.15, 0.12019872\n",
    "\n",
    "S = numpy.matrix([[0.2,-0.2475,-0.2,1/3,-1,1],\n",
    "                  [0.8,-0.88917,-1,0.311111,-0.13333,0.333333],\n",
    "                  [-0.2,0.25025,0.2,-0.36667,1.1,-1.1],                  \n",
    "                  [0.55,-2.71817,-0.88333,0.111111,2/3,10/3],\n",
    "                  [0,0,0,0,0,1],\n",
    "                  [0,1,0,0,0,0]])  \n",
    "\n",
    "C = numpy.matrix([[0,0,0,0,r5,r1]]).T\n",
    "Y = numpy.linalg.solve(S,C)\n",
    "\n",
    "print(S)"
   ]
  },
  {
   "cell_type": "code",
   "execution_count": 37,
   "metadata": {
    "collapsed": false
   },
   "outputs": [
    {
     "data": {
      "text/plain": [
       "matrix([[ 1.74921891],\n",
       "        [ 0.15      ],\n",
       "        [ 1.5840355 ],\n",
       "        [ 1.10043591],\n",
       "        [ 0.48292237],\n",
       "        [ 0.12019872]])"
      ]
     },
     "execution_count": 37,
     "metadata": {},
     "output_type": "execute_result"
    }
   ],
   "source": [
    "Y"
   ]
  },
  {
   "cell_type": "code",
   "execution_count": 38,
   "metadata": {
    "collapsed": false
   },
   "outputs": [
    {
     "data": {
      "text/html": [
       "<div>\n",
       "<table border=\"1\" class=\"dataframe\">\n",
       "  <thead>\n",
       "    <tr style=\"text-align: right;\">\n",
       "      <th></th>\n",
       "      <th>0</th>\n",
       "      <th>1</th>\n",
       "      <th>2</th>\n",
       "      <th>3</th>\n",
       "      <th>4</th>\n",
       "      <th>5 (O2)</th>\n",
       "    </tr>\n",
       "  </thead>\n",
       "  <tbody>\n",
       "    <tr>\n",
       "      <th>0</th>\n",
       "      <td>0.20</td>\n",
       "      <td>-0.247500</td>\n",
       "      <td>-0.200000</td>\n",
       "      <td>0.333333</td>\n",
       "      <td>-1.000000</td>\n",
       "      <td>1.000000</td>\n",
       "    </tr>\n",
       "    <tr>\n",
       "      <th>1</th>\n",
       "      <td>0.80</td>\n",
       "      <td>-0.889167</td>\n",
       "      <td>-1.000000</td>\n",
       "      <td>0.311111</td>\n",
       "      <td>-0.133333</td>\n",
       "      <td>0.333333</td>\n",
       "    </tr>\n",
       "    <tr>\n",
       "      <th>2</th>\n",
       "      <td>-0.20</td>\n",
       "      <td>0.250250</td>\n",
       "      <td>0.200000</td>\n",
       "      <td>-0.366667</td>\n",
       "      <td>1.100000</td>\n",
       "      <td>-1.100000</td>\n",
       "    </tr>\n",
       "    <tr>\n",
       "      <th>3</th>\n",
       "      <td>0.55</td>\n",
       "      <td>-2.718167</td>\n",
       "      <td>-0.883333</td>\n",
       "      <td>0.111111</td>\n",
       "      <td>0.666667</td>\n",
       "      <td>3.333333</td>\n",
       "    </tr>\n",
       "    <tr>\n",
       "      <th>4</th>\n",
       "      <td>0.00</td>\n",
       "      <td>0.000000</td>\n",
       "      <td>0.000000</td>\n",
       "      <td>0.000000</td>\n",
       "      <td>0.000000</td>\n",
       "      <td>1.000000</td>\n",
       "    </tr>\n",
       "    <tr>\n",
       "      <th>5</th>\n",
       "      <td>0.00</td>\n",
       "      <td>1.000000</td>\n",
       "      <td>0.000000</td>\n",
       "      <td>0.000000</td>\n",
       "      <td>0.000000</td>\n",
       "      <td>0.000000</td>\n",
       "    </tr>\n",
       "  </tbody>\n",
       "</table>\n",
       "</div>"
      ],
      "text/plain": [
       "      0         1         2         3         4    5 (O2)\n",
       "0  0.20 -0.247500 -0.200000  0.333333 -1.000000  1.000000\n",
       "1  0.80 -0.889167 -1.000000  0.311111 -0.133333  0.333333\n",
       "2 -0.20  0.250250  0.200000 -0.366667  1.100000 -1.100000\n",
       "3  0.55 -2.718167 -0.883333  0.111111  0.666667  3.333333\n",
       "4  0.00  0.000000  0.000000  0.000000  0.000000  1.000000\n",
       "5  0.00  1.000000  0.000000  0.000000  0.000000  0.000000"
      ]
     },
     "execution_count": 38,
     "metadata": {},
     "output_type": "execute_result"
    }
   ],
   "source": [
    "import pandas, numpy\n",
    "pandas.read_excel('Tut 6 matrix.xlsx')"
   ]
  },
  {
   "cell_type": "code",
   "execution_count": 39,
   "metadata": {
    "collapsed": false
   },
   "outputs": [
    {
     "name": "stdout",
     "output_type": "stream",
     "text": [
      "[[ 0.2   -0.248 -0.2    0.333 -1.     1.   ]\n",
      " [ 0.8   -0.889 -1.     0.311 -0.133  0.333]\n",
      " [-0.2    0.25   0.2   -0.367  1.1   -1.1  ]\n",
      " [ 0.55  -2.718 -0.883  0.111  0.667  3.333]\n",
      " [ 0.     0.     0.     0.     0.     1.   ]\n",
      " [ 0.     1.     0.     0.     0.     0.   ]]\n"
     ]
    }
   ],
   "source": [
    "M = numpy.matrix(pandas.read_excel('Tut 6 matrix.xlsx'))\n",
    "print(numpy.round(M, 3))"
   ]
  },
  {
   "cell_type": "code",
   "execution_count": 40,
   "metadata": {
    "collapsed": false
   },
   "outputs": [
    {
     "data": {
      "text/plain": [
       "matrix([[ 1.5096174 ],\n",
       "        [ 0.15      ],\n",
       "        [ 1.3446174 ],\n",
       "        [ 0.92140776],\n",
       "        [ 0.42320964],\n",
       "        [ 0.12019872]])"
      ]
     },
     "execution_count": 40,
     "metadata": {},
     "output_type": "execute_result"
    }
   ],
   "source": [
    "\n",
    "C = numpy.matrix([[0,0,0,theta,r5,r1]]).T\n",
    "r = numpy.linalg.solve(M,C)\n",
    "r "
   ]
  },
  {
   "cell_type": "code",
   "execution_count": null,
   "metadata": {
    "collapsed": true
   },
   "outputs": [],
   "source": []
  },
  {
   "cell_type": "code",
   "execution_count": null,
   "metadata": {
    "collapsed": true
   },
   "outputs": [],
   "source": []
  }
 ],
 "metadata": {
  "kernelspec": {
   "display_name": "Python 3",
   "language": "python",
   "name": "python3"
  },
  "language_info": {
   "codemirror_mode": {
    "name": "ipython",
    "version": 3
   },
   "file_extension": ".py",
   "mimetype": "text/x-python",
   "name": "python",
   "nbconvert_exporter": "python",
   "pygments_lexer": "ipython3",
   "version": "3.6.0"
  }
 },
 "nbformat": 4,
 "nbformat_minor": 2
}
