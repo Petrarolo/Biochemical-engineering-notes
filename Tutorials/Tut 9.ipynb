{
 "cells": [
  {
   "cell_type": "code",
   "execution_count": 4,
   "metadata": {
    "collapsed": true
   },
   "outputs": [],
   "source": [
    "def fprint(s):\n",
    "    print(\"{:.2}\".format(s))"
   ]
  },
  {
   "cell_type": "markdown",
   "metadata": {},
   "source": [
    "### Tutorial 9\n",
    "\n",
    "Modified _E.coli_ can be used to produce succinic acid without forming any by-products. The modified metabolism is given below.\n",
    "\n",
    "<img src=\"homosucc.png\" width=\"550\" />\n",
    "\n",
    "Note that the pathway to acetic acid is not present since the gene coding for the required enzyme was removed. Also note that the PEP carboxykinase enzyme (found natively in _A. succinogenes_ from tut 4) was added to the  organism by inserting the relevant gene.\n",
    "\n",
    "The flux model is supplied, but make sure you can set it up yourself (this might take some time so you can do it after performing the integration part of the problem). Like before the flux model is supplied in a hidden format. Ten equations are supplied in [Tut9eq.xlsx](https://github.com/willienicol/Biochemical-engineering-notes/blob/master/Tutorials/Tut9eq.xlsx), with equation 10 representing the energy balance. All equations are equal to zero except the energy balance that is equal to $\\theta$. All rates correspond to the flux numbers on the map with $r_{11}$ representing $CO_2$\n",
    "\n",
    "It is easy to transfer the 12x10 matrix into Python and add specification equations. You can use the code below. Ensure that the Excel file is in the same directory as the Jupyter notebook file.\n",
    "\n",
    "The code below generates the matrix for anaerobic conditions where $r_O$ is specified as zero, while $r_X=\\mu$ is specified as basis.\n"
   ]
  },
  {
   "cell_type": "code",
   "execution_count": 20,
   "metadata": {
    "collapsed": true
   },
   "outputs": [],
   "source": [
    "import numpy, pandas\n",
    "import matplotlib.pyplot as plt\n",
    "from scipy.integrate import odeint\n",
    "from scipy.optimize import fsolve"
   ]
  },
  {
   "cell_type": "code",
   "execution_count": 21,
   "metadata": {
    "collapsed": true
   },
   "outputs": [],
   "source": [
    "M1 = numpy.matrix(pandas.read_excel('Tut9eq.xlsx'))\n",
    "M = numpy.vstack([M1,[0,1,0,0,0,0,0,0,0,0,0,0],[0,0,0,0,0,0,0,0,0,0,1,0]])\n",
    "\n",
    "mu_max, theta_max, C_p_mu, monod = 0.3, 0.08, 0.75, 4e-4\n",
    "\n",
    "def ratefun(C):  #Cs, Cx, Cp, Cco2\n",
    "    mu = mu_max * C[0] / (monod + C[0]) * (1 - C[2]/C_p_mu)\n",
    "    theta = theta_max * C[0]/(monod + C[0])\n",
    "    \n",
    "    if(mu<0):\n",
    "        mu=0\n",
    "    \n",
    "    S=numpy.array([0,0,0,0,0,0,0,0,0,theta,mu,0]).T\n",
    "    X=numpy.linalg.solve(M, S)\n",
    "    return( [-X[0], X[1], X[9], X[11], mu, theta] )"
   ]
  },
  {
   "cell_type": "code",
   "execution_count": 22,
   "metadata": {
    "collapsed": true
   },
   "outputs": [],
   "source": [
    "def fermfun(C, t):\n",
    "    r=ratefun(C)\n",
    "    return [ri*float(C[1]) for ri in r[:4]]"
   ]
  },
  {
   "cell_type": "code",
   "execution_count": 23,
   "metadata": {
    "collapsed": false
   },
   "outputs": [],
   "source": [
    "C_0=[100/30, 0.002, 0, 0]\n",
    "\n",
    "ts=numpy.linspace(0, 200, 10000)\n",
    "C=odeint(fermfun, C_0, ts)\n",
    "r=numpy.array([ratefun(Ci) for Ci in C])"
   ]
  },
  {
   "cell_type": "markdown",
   "metadata": {},
   "source": [
    "The physiological parameters can be taken as:\n",
    "\n",
    "|$\\alpha \\qquad \\qquad$|$\\gamma \\qquad \\qquad $|$\\mu_{max} \\qquad$|$\\theta_{max}\\qquad$\n",
    "|----|-|-|-|-\n",
    "|$\\frac{\\text{cmol $CO_2$}}{\\text{cmol X}}$|$\\frac{\\text{mol ATP}}{\\text{cmol X}}$|$\\frac{1}{\\text{h}}$|$\\frac{\\text{mol ATP}}{\\text{cmol X}\\cdot \\text{h}}$\n",
    "|0.1|2.2|0.3|0.08\n",
    "\n",
    "The inhibition functions are given by:\n",
    "\n",
    "$$\\mu(C_S,C_P)= \\mu_{max} \\left[\\frac{Cs}{K_m^{\\mu}+Cs} \\right]   \\left[ 1-\\frac{C_P}{{C_P^{*}}^{\\mu}} \\right] $$\n",
    "\n",
    "$$\\theta(C_S,C_P)= \\theta_{max} \\left[\\frac{Cs}{K_m^{\\theta}+Cs} \\right]   $$\n",
    "\n",
    "$C_{P^{*}}^{\\mu}$ refers to the terminal succinic acid concentration of $0.75$ $\\frac{\\text{cmol}}{\\text{L}}$. All Monod constants can be taken as $4 \\times 10^{-4}$ $\\frac{\\text{cmol}}{\\text{L}}$.\n",
    "\n",
    "The following initial conditions. $C_X^0=0.002 \\frac{cmol}{L}$ and $C_S^0=\\frac{100}{30} \\frac{cmol}{L}$"
   ]
  },
  {
   "cell_type": "markdown",
   "metadata": {},
   "source": [
    "a) How long will the fermentation take?"
   ]
  },
  {
   "cell_type": "code",
   "execution_count": 24,
   "metadata": {
    "collapsed": false
   },
   "outputs": [
    {
     "data": {
      "image/png": "[encoded data removed]",
      "text/plain": [
       "<matplotlib.figure.Figure at 0x178b2b3b518>"
      ]
     },
     "metadata": {},
     "output_type": "display_data"
    },
    {
     "name": "stdout",
     "output_type": "stream",
     "text": [
      "1.7e+02\n"
     ]
    }
   ],
   "source": [
    "for i in range(3):\n",
    "    plt.plot(ts, C[:,i])\n",
    "\n",
    "plt.xlabel(\"time (h)\")\n",
    "plt.ylabel(\"C (cmol/L)\")\n",
    "plt.axis([0,200,0,4])\n",
    "plt.show()\n",
    "fprint(numpy.interp(0, C[:,0][::-1], ts[::-1]) )"
   ]
  },
  {
   "cell_type": "markdown",
   "metadata": {},
   "source": [
    "b) Determine the instantaneous **volumetric** rate of succinic acid production and $Y_{SSA}$ at 10 hours. [$1.5 \\frac{g}{L\\cdot h}$, $0.97 \\frac{g}{g}$]"
   ]
  },
  {
   "cell_type": "code",
   "execution_count": 6,
   "metadata": {
    "collapsed": false
   },
   "outputs": [
    {
     "data": {
      "image/png": "[encoded data removed]",
      "text/plain": [
       "<matplotlib.figure.Figure at 0x178b246c9e8>"
      ]
     },
     "metadata": {},
     "output_type": "display_data"
    },
    {
     "name": "stdout",
     "output_type": "stream",
     "text": [
      "1.5\n",
      "0.97\n"
     ]
    }
   ],
   "source": [
    "r_vsa=r[:,2]*C[:,1]\n",
    "plt.plot(ts, r_vsa)\n",
    "plt.axis([0,200,0,0.075])\n",
    "plt.show()\n",
    "fprint(numpy.interp(10, ts, r_vsa) * 29.5 ) \n",
    "fprint(numpy.interp(10, ts, r[:,2]) / -numpy.interp(10, ts, r[:,0]) * 29.5 / 30)"
   ]
  },
  {
   "cell_type": "markdown",
   "metadata": {},
   "source": [
    "c) Determine the instantaneous **volumetric** rate of succinic acid production and $Y_{SSA}$ at 60 hours and comment. [$0.665 \\frac{g}{L \\cdot h}$ and $1.09 \\frac{g}{g}$]"
   ]
  },
  {
   "cell_type": "code",
   "execution_count": 7,
   "metadata": {
    "collapsed": false
   },
   "outputs": [
    {
     "name": "stdout",
     "output_type": "stream",
     "text": [
      "0.59\n",
      "1.1\n"
     ]
    }
   ],
   "source": [
    "fprint(numpy.interp(60, ts, r[:,2]*C[:,1]) * 29.5 ) \n",
    "fprint(numpy.interp(60, ts, r[:,2]) / -numpy.interp(60, ts, r[:,0]) * 29.5 / 30)"
   ]
  },
  {
   "cell_type": "markdown",
   "metadata": {},
   "source": [
    "d) At what time is the maximum value of $r_{SA}^V$ obtained? [$13 h$]"
   ]
  },
  {
   "cell_type": "code",
   "execution_count": 8,
   "metadata": {
    "collapsed": false
   },
   "outputs": [
    {
     "name": "stdout",
     "output_type": "stream",
     "text": [
      "1.3e+01\n"
     ]
    }
   ],
   "source": [
    "fprint( ts[ numpy.where( r_vsa == max(r_vsa) )[0][0] ] )"
   ]
  },
  {
   "cell_type": "markdown",
   "metadata": {},
   "source": [
    "e) What is the APY and productivity of the fermentation above?"
   ]
  },
  {
   "cell_type": "code",
   "execution_count": 9,
   "metadata": {
    "collapsed": false
   },
   "outputs": [
    {
     "name": "stdout",
     "output_type": "stream",
     "text": [
      "1.1\n",
      "0.65\n"
     ]
    }
   ],
   "source": [
    "fprint( C[:,2][-1] / C_0[0] * 29.5 / 30 )\n",
    "fprint( C[:,2][-1] / numpy.interp(0, C[:,0][::-1], ts[::-1]) *29.5)"
   ]
  },
  {
   "cell_type": "markdown",
   "metadata": {},
   "source": [
    "f) What is the volumetric rate of $CO_2$ consumption at 60 hours? [$2.5 \\frac{mmol}{L\\cdot h} $]  "
   ]
  },
  {
   "cell_type": "code",
   "execution_count": 10,
   "metadata": {
    "collapsed": false
   },
   "outputs": [
    {
     "name": "stdout",
     "output_type": "stream",
     "text": [
      "2.5\n"
     ]
    }
   ],
   "source": [
    "fprint( -numpy.interp(60, ts, r[:,3]*C[:,1]) *1000)"
   ]
  },
  {
   "cell_type": "markdown",
   "metadata": {},
   "source": [
    "g) How will a higher product titre ($C_{SA}^{final}$) be achieved? Will the APY and productivity be higher or lower for this fermentation."
   ]
  },
  {
   "cell_type": "markdown",
   "metadata": {},
   "source": []
  },
  {
   "cell_type": "markdown",
   "metadata": {},
   "source": [
    "h) It is also possible to operate the fermentation under aerobic conditions. Zero succinic acid will form when sufficient oxygen is available (assume this to be the case). Operate the fermenter aerobically for 15 hours by sparging with oxygen and then switch to sparging with $CO_2$. Note that the specifications in the response matrix will alter between aerobic and anaerobic conditions. Integrate the aerobic and anaerobic sections separately, but plot together on a single graph. Determine the APY and productivity of the total fermentation. Compare to the answer in (e) and explain to yourself. What happened to $C_{SA}^{final}$ when comparing to (e)? Also play with increasing the aerobic fermentation time. Take enough time in understanding the concentration profiles and don't just focus on getting the answers. \n",
    "\n",
    "\n",
    "[$1.64 \\frac{g}{L \\cdot h}$ and $0.99 \\frac{g}{g}$]"
   ]
  },
  {
   "cell_type": "code",
   "execution_count": 17,
   "metadata": {
    "collapsed": true
   },
   "outputs": [],
   "source": [
    "M1 = numpy.matrix(pandas.read_excel('Tut9eq.xlsx'))\n",
    "Mae = numpy.vstack([M1,[0,1,0,0,0,0,0,0,0,0,0,0],[0,0,0,0,0,0,0,0,0,1,0,0]])\n",
    "\n",
    "def ratefun_ae(C):  #Cs, Cx, Cp, Cco2\n",
    "    mu = mu_max * C[0] / (monod + C[0]) * (1 - C[2]/C_p_mu)\n",
    "    theta = theta_max * C[0]/(monod + C[0])\n",
    "    \n",
    "    if(mu<0):\n",
    "        mu=0\n",
    "    \n",
    "    S=numpy.array([0,0,0,0,0,0,0,0,0,theta,mu,0]).T\n",
    "    X=numpy.linalg.solve(Mae, S)\n",
    "    return( [-X[0], X[1], X[9], X[11], X[4], X[6], X[10]] )"
   ]
  },
  {
   "cell_type": "code",
   "execution_count": 18,
   "metadata": {
    "collapsed": true
   },
   "outputs": [],
   "source": [
    "def fermfun_ae(C, t):\n",
    "    r=ratefun_ae(C)\n",
    "    return [ri*float(C[1]) for ri in r[:4]]"
   ]
  },
  {
   "cell_type": "code",
   "execution_count": 19,
   "metadata": {
    "collapsed": false
   },
   "outputs": [
    {
     "name": "stdout",
     "output_type": "stream",
     "text": [
      "750\n"
     ]
    },
    {
     "data": {
      "image/png": "[encoded data removed]",
      "text/plain": [
       "<matplotlib.figure.Figure at 0x178b29cd8d0>"
      ]
     },
     "metadata": {},
     "output_type": "display_data"
    }
   ],
   "source": [
    "C_0_ae=[100/30, 0.002, 0, 0]\n",
    "\n",
    "time=15\n",
    "\n",
    "ts_ae=numpy.linspace(0, 200, 10000)\n",
    "Cae=odeint(fermfun_ae, C_0_ae, ts_ae)\n",
    "rae=numpy.array([ratefun_ae(Ci) for Ci in Cae])\n",
    "C_0_an=Cae[numpy.where(abs(ts_ae-time)<1e-2)[0][0]] #init conditions after aerobic\n",
    "\n",
    "ts_an=numpy.linspace(time, 200, 10000)\n",
    "Can=odeint(fermfun, C_0_an, ts)\n",
    "ran=numpy.array([ratefun(Ci) for Ci in Can])\n",
    "\n",
    "t_ae = numpy.where(abs(ts_ae-time)<1e-2)[0][0]\n",
    "print(t_ae)\n",
    "\n",
    "plt.figure(2)\n",
    "\n",
    "for compound in range(3):\n",
    "    plt.plot(ts_an, Can[:,compound])\n",
    "    plt.plot(ts_ae[:t_ae], Cae[:,compound][:t_ae])\n",
    "plt.xlabel(\"time (h)\")\n",
    "plt.ylabel(\"Glucose (cmol/L)\")\n",
    "plt.axis([0,60,0,3.5])\n",
    "plt.show()"
   ]
  },
  {
   "cell_type": "markdown",
   "metadata": {},
   "source": [
    "i) It should be clear that $CO_2$ is consumed when operating under anaerobic conditions. What will happen when the $CO_2$ supply in this phase is shut off? For the aerobic phase oxygen sparging is required, but is it in order to shut off the $CO_2$ supply? Determine the $CO_2$ consumption/production at the start of the aerobic phase in (h). Also investigate the internal flux distribution in the aerobic phase by having a close look at fluxes $r_4$ and $r_5$. What is the difference between the simplified respiration model in [section 4.3](https://nbviewer.jupyter.org/github/willienicol/Biochemical-engineering-notes/blob/master/4%20Stoichiometry%20that%20includes%20internal%20reactions/TCA%20cycle%20and%20oxidative%20phosphorylation.ipynb) and the respiration in this tutorial?"
   ]
  },
  {
   "cell_type": "markdown",
   "metadata": {},
   "source": [
    "The microbe will die.\n",
    "Nope CO2 is produced.\n"
   ]
  },
  {
   "cell_type": "code",
   "execution_count": 14,
   "metadata": {
    "collapsed": false
   },
   "outputs": [
    {
     "name": "stdout",
     "output_type": "stream",
     "text": [
      "Determine the CO2 consumption/production at the start of the aerobic phase in (h)\n",
      "0.219516429298218 -0.029992731405172772\n"
     ]
    }
   ],
   "source": [
    "print(\"Determine the CO2 consumption/production at the start of the aerobic phase in (h)\")\n",
    "print( numpy.interp(time, ts, rae[:,3]), numpy.interp(time, ts, ran[:,3]) )\n",
    "#production during aerobic, consumption during anaerobic"
   ]
  },
  {
   "cell_type": "markdown",
   "metadata": {},
   "source": [
    "Rate 4 is zero and rate 5 is negative. Thus a cycle forms r3->r7->r8->(-r5)->r6->r3\n",
    "Difference being that SA, Fum and Mal are formed as opposed to alpha-Ket and Su-CoA"
   ]
  },
  {
   "cell_type": "markdown",
   "metadata": {},
   "source": [
    "j) What is the difference between $-r_{S}$ at the end of the aerobic phase and the start of the anaerobic phase? Why the difference? [$\\frac {-r_S^{anaer}}{-r_S^{aer}} = 4.4$}"
   ]
  },
  {
   "cell_type": "code",
   "execution_count": 15,
   "metadata": {
    "collapsed": false
   },
   "outputs": [
    {
     "name": "stdout",
     "output_type": "stream",
     "text": [
      "4.4\n"
     ]
    },
    {
     "data": {
      "image/png": "[encoded data removed]",
      "text/plain": [
       "<matplotlib.figure.Figure at 0x178b2ad9198>"
      ]
     },
     "metadata": {},
     "output_type": "display_data"
    }
   ],
   "source": [
    "time_15 = numpy.where(abs(ts-15)<1e-2)[0][0]\n",
    "fprint( ran[:,0][0] / rae[:,0][time_15])\n",
    "\n",
    "plt.plot(ts_an, -ran[:,0])\n",
    "plt.plot(ts_ae[:t_ae], -rae[:,0][:t_ae])\n",
    "plt.show()"
   ]
  },
  {
   "cell_type": "markdown",
   "metadata": {},
   "source": [
    "k) Plot the volumetric consumption rate of oxygen ($r_{O_2}^V$) as a function of time for the aerobic phase. If the oxygen supply to the fermenter had a maximum possible value of $0.02 \\frac{\\text{mol }O_2}{\\text{L}\\cdot \\text{h}}$, how will the organism respond to the limitation?"
   ]
  },
  {
   "cell_type": "code",
   "execution_count": 16,
   "metadata": {
    "collapsed": false
   },
   "outputs": [
    {
     "name": "stdout",
     "output_type": "stream",
     "text": [
      "[  2.04520912e-01   2.04520912e-01   2.04520912e-01 ...,   6.43963915e-31\n",
      "   6.43837552e-31   6.43711190e-31]\n",
      "[ 0.002       0.00201204  0.00202414 ...,  1.92675941  1.92675941\n",
      "  1.92675941]\n"
     ]
    },
    {
     "data": {
      "image/png": "[encoded data removed]",
      "text/plain": [
       "<matplotlib.figure.Figure at 0x178b2b675c0>"
      ]
     },
     "metadata": {},
     "output_type": "display_data"
    }
   ],
   "source": [
    "r_vO2=rae[:,6]*Cae[:,1]\n",
    "print(rae[:,6])\n",
    "print(Cae[:,1])\n",
    "plt.plot(ts, r_vO2)\n",
    "plt.axis([0,15,0,0.04])\n",
    "plt.show()"
   ]
  },
  {
   "cell_type": "markdown",
   "metadata": {},
   "source": [
    "The organism will begin to grow slower until it reaches the point of maintainence"
   ]
  },
  {
   "cell_type": "markdown",
   "metadata": {
    "collapsed": true
   },
   "source": [
    "l) Perform your own flux model (set up your own response function). Include $CO_2$ as seperate flux. Check against the supplied model. Note the following stoichiometric relationship: $r_6=2r_3$ ($C_4$ joining $C_2$ to form $C_6$). Use the standard elemental composition for biomass. "
   ]
  },
  {
   "cell_type": "markdown",
   "metadata": {},
   "source": [
    "m) If the PEP carboxykinase gene is removed and replaced with the more conventional pyruvate carboxylase, the ATP balance of the organism will be affected. Note that a mole of ATP is required to convert pyruvate to oxaloacetate via pyruvate carboxylase. Determine how the biomass yield on glucose will be affected when the modification is performed (assume zero inhibition). How will this modification affect the anaerobic fermentation? How will the modification affect the aerobic-anaerobic combo fermentation?[$\\frac{Y_{SX}^{xylase}}{Y_{SX}^{kinase}}=0.28$]"
   ]
  },
  {
   "cell_type": "code",
   "execution_count": null,
   "metadata": {
    "collapsed": true
   },
   "outputs": [],
   "source": []
  }
 ],
 "metadata": {
  "kernelspec": {
   "display_name": "Python 3",
   "language": "python",
   "name": "python3"
  },
  "language_info": {
   "codemirror_mode": {
    "name": "ipython",
    "version": 3
   },
   "file_extension": ".py",
   "mimetype": "text/x-python",
   "name": "python",
   "nbconvert_exporter": "python",
   "pygments_lexer": "ipython3",
   "version": "3.6.0"
  }
 },
 "nbformat": 4,
 "nbformat_minor": 0
}
