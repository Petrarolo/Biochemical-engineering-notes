{
 "cells": [
  {
   "cell_type": "markdown",
   "metadata": {},
   "source": [
    "## Tutorial 6\n",
    "\n",
    "The **aerobic** 1,3 propanediol (PDO) example discussed in [tutorial 3](https://nbviewer.jupyter.org/github/willienicol/Biochemical-engineering-notes/blob/master/Tutorials/Tut%203.ipynb) has the following metabolic network. Note that the DHAP carbon that is not used for PDO proceeds to the remainder of glycolysis and the TCA cycle.  \n",
    "\n",
    "<img src=\"pdomap.png\" width=\"450\" />\n",
    "\n",
    "\n",
    "Assume NADH, NADPH and FADH  equivalence. The following is known about the modified _E.coli_ strain:\n",
    "\n",
    "\n",
    "|$\\alpha \\qquad \\qquad$|$\\gamma \\qquad \\qquad $|$\\mu \\qquad$|$\\theta\\qquad$|$P/O$\n",
    "|----|-|-|-|-|-\n",
    "|$\\frac{\\text{cmol $CO_2$}}{\\text{cmol X}}$|$\\frac{\\text{mol ATP}}{\\text{cmol X}}$|$\\frac{1}{\\text{h}}$|$\\frac{\\text{mol ATP}}{\\text{cmol X}\\cdot \\text{h}}$| $\\frac{\\text {mol ATP}}{\\text {mol NADH} }$\n",
    "|0.1|-|0.15|0.02|1.5\n"
   ]
  },
  {
   "cell_type": "markdown",
   "metadata": {},
   "source": [
    "a) Determine the values of w, x, y and z.\n",
    "\n",
    "b) Determine the rate of oxygen addition using a cmol X basis. Use the answers of tut 3. [0.12 $\\frac{\\text{mol $O_2$}}{\\text{cmol X}\\cdot \\text{h}}$]\n",
    "\n",
    "c) Determine the value of $\\gamma$ that wil result in the tut 3 answers. [2.104 $\\frac{\\text{mol ATP}}{\\text{cmol X}}$]\n",
    "\n",
    "d) If the oxygen uptake rate increases to 0.18 $\\frac{\\text{mol $O_2$}}{\\text{cmol X}\\cdot \\text{h}}$, what will the biomass yield on substrate be? [0.036 $\\frac{\\text{cmol X}}{\\text{cmol S}}$]\n",
    "\n",
    "\n",
    "\n"
   ]
  },
  {
   "cell_type": "markdown",
   "metadata": {},
   "source": [
    "To test your answer, use the 4 equations supplied in the following [Excel file](https://github.com/willienicol/Biochemical-engineering-notes/blob/master/Tutorials/Tut%206%20matrix.xlsx) (just press download). These 4 equations represent the carbon, NADH and ATP balance ($4^{th}$ row). Note that the ATP balance is equal to $\\theta$ in $\\frac{\\text{mol ATP}}{\\text{cmol X}\\cdot \\text{h}}$, while the other equations are equal to zero. Two additional equations are required to solve for all the rates. \n",
    "\n",
    "Matrices will often be supplied in tests and exams in order to continue with questions when your own stoichiometric matrix is incorrect. Note that the **Pandas** tool can be used to pull the matrix into Python (see [section 4.3](https://nbviewer.jupyter.org/github/willienicol/Biochemical-engineering-notes/blob/master/4%20Stoichiometry%20that%20includes%20internal%20reactions/TCA%20cycle%20and%20oxidative%20phosphorylation.ipynb)).\n",
    "\n"
   ]
  },
  {
   "cell_type": "markdown",
   "metadata": {
    "collapsed": true
   },
   "source": [
    "# A:"
   ]
  },
  {
   "cell_type": "code",
   "execution_count": 2,
   "metadata": {
    "collapsed": false
   },
   "outputs": [],
   "source": [
    "x, y, z, w = 1/3, 1/3, 5/3, 1/3 \n"
   ]
  },
  {
   "cell_type": "markdown",
   "metadata": {},
   "source": [
    "# B:"
   ]
  },
  {
   "cell_type": "markdown",
   "metadata": {},
   "source": [
    "tut 3 answer"
   ]
  },
  {
   "cell_type": "code",
   "execution_count": 3,
   "metadata": {
    "collapsed": false,
    "scrolled": true
   },
   "outputs": [
    {
     "name": "stdout",
     "output_type": "stream",
     "text": [
      "[[ 1.        ]\n",
      " [ 0.02199108]\n",
      " [ 0.0801    ]\n",
      " [ 0.60952011]\n",
      " [ 0.12483186]\n",
      " [ 0.29052043]\n",
      " [ 0.09995946]]\n"
     ]
    }
   ],
   "source": [
    "import numpy\n",
    "\n",
    "Ro = 0.00267*30\n",
    "Rx = 0.0822*(30/(12+1.91+0.48*16+0.22*14))\n",
    "\n",
    "S = numpy.matrix([[-1,0,0,1,0,1,1],\n",
    "                  [-2,-3,0,8/3,2,0,1.91],\n",
    "                  [-1,0,-2,2/3,1,2,0.48],                  \n",
    "                  [0,-1,0,0,0,0,0.22],\n",
    "                  [1,0,0,0,0,0,0],\n",
    "                  [0,0,1,0,0,0,0],\n",
    "                  [0,0,0,0,0,0,1]])  \n",
    "\n",
    "C = numpy.matrix([[0,0,0,0,1,Ro,Rx]]).T\n",
    "Y = numpy.linalg.solve(S,C)\n",
    "print(Y)\n"
   ]
  },
  {
   "cell_type": "code",
   "execution_count": 4,
   "metadata": {
    "collapsed": false
   },
   "outputs": [
    {
     "name": "stdout",
     "output_type": "stream",
     "text": [
      "[[ 1.50060827]\n",
      " [ 0.033     ]\n",
      " [ 0.12019872]\n",
      " [ 0.91465091]\n",
      " [ 0.18732372]\n",
      " [ 0.43595736]\n",
      " [ 0.15      ]]\n"
     ]
    }
   ],
   "source": [
    "Y = 0.15*Y/Y[6]\n",
    "print(Y)"
   ]
  },
  {
   "cell_type": "code",
   "execution_count": 5,
   "metadata": {
    "collapsed": false
   },
   "outputs": [
    {
     "name": "stdout",
     "output_type": "stream",
     "text": [
      "[[ 0.12019872]]\n"
     ]
    }
   ],
   "source": [
    "print(Y[2])\n"
   ]
  },
  {
   "cell_type": "markdown",
   "metadata": {
    "collapsed": true
   },
   "source": [
    "# C"
   ]
  },
  {
   "cell_type": "code",
   "execution_count": 6,
   "metadata": {
    "collapsed": true
   },
   "outputs": [],
   "source": [
    "r0=Y[0]\n",
    "r1=Y[6]\n",
    "r3=Y[3]\n",
    "r4=Y[5]\n",
    "r5=Y[2]\n",
    "r2=r3+r4\n",
    "\n",
    "PO, theta = 1.5, 0.02\n",
    "\n",
    "gamma = (2/3*r4 + w*r4 + 2*PO*r5 - 1/3*r2 - theta)/r1"
   ]
  },
  {
   "cell_type": "code",
   "execution_count": 7,
   "metadata": {
    "collapsed": false
   },
   "outputs": [
    {
     "name": "stdout",
     "output_type": "stream",
     "text": [
      "[[ 2.1756718]]\n",
      "[[ 1.50060827]] [[ 0.15]] [[ 1.35060827]] [[ 0.91465091]] [[ 0.43595736]] [[ 0.12019872]]\n"
     ]
    }
   ],
   "source": [
    "print (gamma)\n",
    "\n",
    "print (r0,r1,r2,r3,r4,r5)"
   ]
  },
  {
   "cell_type": "code",
   "execution_count": 8,
   "metadata": {
    "collapsed": false
   },
   "outputs": [
    {
     "name": "stdout",
     "output_type": "stream",
     "text": [
      "[[ 1.50060827]\n",
      " [ 0.15      ]\n",
      " [ 1.33560827]\n",
      " [ 0.91465091]\n",
      " [ 0.42095736]\n",
      " [ 0.12019872]]\n",
      "[[ 2.10900514]]\n"
     ]
    }
   ],
   "source": [
    "alpha,beta = 0.1,0.055\n",
    "\n",
    "S = numpy.matrix([[-1,(1+alpha),1,0,0,0],\n",
    "                  [0,0,-1,1,1,0],\n",
    "                  [0,beta,0,(-x-y),1/3.0+z,-2],                  \n",
    "                  [0,1,0,0,0,0],\n",
    "                  [0,0,0,0,0,1],\n",
    "                  [1,0,0,0,0,0]])  \n",
    "\n",
    "C = numpy.matrix([[0,0,0,r1,r5,r0]]).T\n",
    "Y = numpy.linalg.solve(S,C)\n",
    "\n",
    "print(Y)\n",
    "r0=Y[0]\n",
    "r1=Y[1]\n",
    "r3=Y[3]\n",
    "r4=Y[4]\n",
    "r5=Y[5]\n",
    "r2=Y[2]\n",
    "gamma = (2/3*r4 + w*r4 + 2*PO*r5 - 1/3*r2 - theta)/r1\n",
    "# In[ ]:\n",
    "\n",
    "print (gamma)"
   ]
  },
  {
   "cell_type": "code",
   "execution_count": null,
   "metadata": {
    "collapsed": true
   },
   "outputs": [],
   "source": []
  },
  {
   "cell_type": "code",
   "execution_count": null,
   "metadata": {
    "collapsed": true
   },
   "outputs": [],
   "source": []
  },
  {
   "cell_type": "code",
   "execution_count": null,
   "metadata": {
    "collapsed": true
   },
   "outputs": [],
   "source": []
  },
  {
   "cell_type": "code",
   "execution_count": null,
   "metadata": {
    "collapsed": true
   },
   "outputs": [],
   "source": []
  }
 ],
 "metadata": {
  "kernelspec": {
   "display_name": "Python 3",
   "language": "python",
   "name": "python3"
  },
  "language_info": {
   "codemirror_mode": {
    "name": "ipython",
    "version": 3
   },
   "file_extension": ".py",
   "mimetype": "text/x-python",
   "name": "python",
   "nbconvert_exporter": "python",
   "pygments_lexer": "ipython3",
   "version": "3.6.0"
  }
 },
 "nbformat": 4,
 "nbformat_minor": 0
}
