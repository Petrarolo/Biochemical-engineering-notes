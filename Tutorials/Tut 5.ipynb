{
 "cells": [
  {
   "cell_type": "markdown",
   "metadata": {},
   "source": [
    "## Tutorial 5\n",
    "\n",
    "The bacteria genus _Acetobacter_ produces acetic acid by using ethanol as substrate. Most commercial vinegar (acetic acid) is produced via the **aerobic** conversion of ethanol.\n",
    "\n",
    "<img src=\"vinegar.jpg\" width=\"220\" />\n",
    "\n",
    "The metabolic pathway of the process is given by the following:\n",
    "\n",
    "<img src=\"aceticmap.png\" width=\"400\" />\n",
    "\n",
    "The following physiological parameters are known:\n",
    "\n",
    "|$\\alpha \\qquad \\qquad$|$\\gamma \\qquad \\qquad $|$\\mu \\qquad$|$\\theta\\qquad$|$P/O$\n",
    "|----|-|-|-|-|-\n",
    "|$\\frac{\\text{cmol $CO_2$}}{\\text{cmol X}}$|$\\frac{\\text{mol ATP}}{\\text{cmol X}}$|$\\frac{1}{\\text{h}}$|$\\frac{\\text{mol ATP}}{\\text{cmol X}\\cdot \\text{h}}$| $\\frac{\\text {mol ATP}}{\\text {mol NADH} }$\n",
    "|0.08|2.4|0.3|0|1.6\n",
    "\n",
    "The biomass formula is given by $CH_{1.8}O_{0.5}N_{0.2}$\n",
    "\n"
   ]
  },
  {
   "cell_type": "markdown",
   "metadata": {},
   "source": [
    "a) Determine the mass based yield of acetic acid on ethanol. [0.26 g/g]\n",
    "\n",
    "b) Will the value in (a) change if the growth rate ($\\mu$) was 0.4$\\frac{1}{\\text{h}}$? \n",
    "\n",
    "c) What is the rate of ethanol consumption in (a)? [0.406 $\\frac{\\text{cmol Et}}{\\text{cmol X}\\cdot \\text{h}}$] \n",
    "\n",
    "d) What will happen to the bacterium under anaerobic conditions?\n",
    "\n",
    "e) If the $\\theta$ value becomes 0.15 $\\frac{\\text{mol ATP}}{\\text{cmol X}\\cdot \\text{h}}$, what will the answer in (a) become and why? [0.413 g/g] \n",
    "\n",
    "f) What fraction of ATP is spent on maintenance in (e)? [17.2%]\n",
    "\n",
    "g) What fraction of ethanol is spent on maintenance in (e)? [46.5%]  \n",
    "\n",
    "h) What is the maximum mass based yield of acetic acid on ethanol and what will you do to achieve this? [1.28 g/g]\n",
    "\n",
    "\n"
   ]
  },
  {
   "cell_type": "markdown",
   "metadata": {},
   "source": [
    "[Back to all tutorials](http://localhost:8888/notebooks/Dropbox/1_CBI%20310/2017/Tutorials/All%20tutorials.ipynb)"
   ]
  },
  {
   "cell_type": "markdown",
   "metadata": {},
   "source": [
    "beta calc:"
   ]
  },
  {
   "cell_type": "code",
   "execution_count": 15,
   "metadata": {
    "collapsed": false
   },
   "outputs": [
    {
     "data": {
      "text/plain": [
       "matrix([[-1. ,  1. ,  1. ,  0. ],\n",
       "        [-6. ,  0. ,  4.2,  2. ],\n",
       "        [ 0. ,  0. ,  1. ,  0. ],\n",
       "        [ 0. ,  1. ,  0. ,  0. ]])"
      ]
     },
     "execution_count": 15,
     "metadata": {},
     "output_type": "execute_result"
    }
   ],
   "source": [
    "import numpy\n",
    "\n",
    "S = numpy.matrix([[-1,1,1,0],\n",
    "                  [-6,0,4.2,2],\n",
    "                  [0,0,1,0],                  \n",
    "                  [0,1,0,0]])  \n",
    "\n",
    "S"
   ]
  },
  {
   "cell_type": "code",
   "execution_count": 16,
   "metadata": {
    "collapsed": false
   },
   "outputs": [
    {
     "data": {
      "text/plain": [
       "matrix([[ 1.14]])"
      ]
     },
     "execution_count": 16,
     "metadata": {},
     "output_type": "execute_result"
    }
   ],
   "source": [
    "alpha = 0.08\n",
    "\n",
    "C = numpy.matrix([[0,0,1,alpha]]).T\n",
    "Y = numpy.linalg.solve(S,C)\n",
    "\n",
    "beta = Y[3]\n",
    "beta "
   ]
  },
  {
   "cell_type": "code",
   "execution_count": null,
   "metadata": {
    "collapsed": true
   },
   "outputs": [],
   "source": []
  },
  {
   "cell_type": "code",
   "execution_count": 17,
   "metadata": {
    "collapsed": false
   },
   "outputs": [],
   "source": [
    "#a = float(Y[3])*0.844444\n",
    "\n",
    "#print(a)"
   ]
  },
  {
   "cell_type": "markdown",
   "metadata": {},
   "source": [
    "rate calc"
   ]
  },
  {
   "cell_type": "code",
   "execution_count": 20,
   "metadata": {
    "collapsed": false
   },
   "outputs": [
    {
     "data": {
      "text/plain": [
       "matrix([[-1.  ,  1.08,  1.  ,  0.  ],\n",
       "        [ 0.  ,  1.14,  0.5 , -2.  ],\n",
       "        [ 0.  , -2.4 ,  0.25,  3.2 ],\n",
       "        [ 0.  ,  1.  ,  0.  ,  0.  ]])"
      ]
     },
     "execution_count": 20,
     "metadata": {},
     "output_type": "execute_result"
    }
   ],
   "source": [
    "import numpy\n",
    "\n",
    "gamma = 2.4\n",
    "mu = 0.3\n",
    "PO = 1.6\n",
    "\n",
    "S = numpy.matrix([[-1,1+alpha,1,0],\n",
    "                  [0,beta,0.5,-2],\n",
    "                  [0,-gamma,0.25,2*PO],                  \n",
    "                  [0,1,0,0]])  \n",
    "\n",
    "S"
   ]
  },
  {
   "cell_type": "code",
   "execution_count": 21,
   "metadata": {
    "collapsed": false
   },
   "outputs": [
    {
     "data": {
      "text/plain": [
       "matrix([[ 0.48857143],\n",
       "        [ 0.3       ],\n",
       "        [ 0.16457143],\n",
       "        [ 0.21214286]])"
      ]
     },
     "execution_count": 21,
     "metadata": {},
     "output_type": "execute_result"
    }
   ],
   "source": [
    "C = numpy.matrix([[0,0,0,mu]]).T\n",
    "Y = numpy.linalg.solve(S,C)\n",
    "Y"
   ]
  },
  {
   "cell_type": "code",
   "execution_count": null,
   "metadata": {
    "collapsed": true
   },
   "outputs": [],
   "source": []
  },
  {
   "cell_type": "code",
   "execution_count": 14,
   "metadata": {
    "collapsed": false
   },
   "outputs": [],
   "source": [
    "#a = float(Y[3])*0.844444\n",
    "\n",
    "#print(a)"
   ]
  },
  {
   "cell_type": "code",
   "execution_count": null,
   "metadata": {
    "collapsed": true
   },
   "outputs": [],
   "source": []
  }
 ],
 "metadata": {
  "kernelspec": {
   "display_name": "Python 3",
   "language": "python",
   "name": "python3"
  },
  "language_info": {
   "codemirror_mode": {
    "name": "ipython",
    "version": 3
   },
   "file_extension": ".py",
   "mimetype": "text/x-python",
   "name": "python",
   "nbconvert_exporter": "python",
   "pygments_lexer": "ipython3",
   "version": "3.6.0"
  }
 },
 "nbformat": 4,
 "nbformat_minor": 0
}
