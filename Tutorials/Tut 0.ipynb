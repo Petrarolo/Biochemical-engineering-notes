{
 "cells": [
  {
   "cell_type": "markdown",
   "metadata": {},
   "source": [
    "### Tutorial 0 \n",
    "\n",
    "Try and solve this mathematical formulation:\n",
    "$$$$\n",
    "$$\\frac{dC_1}{dt}=r_1C_1 $$\n",
    "$$$$\n",
    "\n",
    "$$$$\n",
    "$$\\frac{dC_2}{dt}=r_2C_1 $$\n",
    "$$$$\n",
    "\n",
    "$$$$\n",
    "$$r_1-2r_2=\\frac{-C_1}{C_2}$$\n",
    "$$$$\n",
    "\n",
    "$$2r_1-3r_3=-C_2$$\n",
    "$$$$\n",
    "\n",
    "$$r_1-r_2+r_3=\\frac{5}{C_2} $$\n",
    "$$$$\n",
    "\n",
    "$$ C_1(0)=15 \\,\\, , C_2(0)=2 $$ \n",
    "$$$$\n",
    "\n",
    "Plot the values of $C_1$ and $C_2$ from $t=0$ to $t=1$:\n",
    "\n",
    "[Back to Contents page](https://nbviewer.jupyter.org/github/willienicol/Biochemical-engineering-notes/blob/master/List%20of%20contents.ipynb)"
   ]
  },
  {
   "cell_type": "markdown",
   "metadata": {
    "collapsed": true
   },
   "source": [
    "<img src=\"SA1.png\" width=\"550\" />\n",
    "\n",
    "<img src=\"SA2.png\" width=\"550\" />\n"
   ]
  },
  {
   "cell_type": "code",
   "execution_count": null,
   "metadata": {
    "collapsed": true
   },
   "outputs": [],
   "source": []
  }
 ],
 "metadata": {
  "kernelspec": {
   "display_name": "Python 3",
   "language": "python",
   "name": "python3"
  },
  "language_info": {
   "codemirror_mode": {
    "name": "ipython",
    "version": 3
   },
   "file_extension": ".py",
   "mimetype": "text/x-python",
   "name": "python",
   "nbconvert_exporter": "python",
   "pygments_lexer": "ipython3",
   "version": "3.5.1"
  }
 },
 "nbformat": 4,
 "nbformat_minor": 0
}
