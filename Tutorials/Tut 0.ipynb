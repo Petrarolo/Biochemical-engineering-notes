{
 "cells": [
  {
   "cell_type": "markdown",
   "metadata": {},
   "source": [
    "### Tutorial 0 \n",
    "\n",
    "Try and solve this mathematical formulation:\n",
    "\n",
    "$$\\frac{dC_1}{dt}=r_1C_1 $$\n",
    "\n",
    "\n",
    "$$\\frac{dC_2}{dt}=r_2C_1 $$\n",
    "\n",
    "\n",
    "$$r_1-2r_2=\\frac{-C_1}{C_2}$$\n",
    "\n",
    "\n",
    "$$2r_1-3r_3=-C_2$$\n",
    "\n",
    "\n",
    "$$r_1-r_2+r_3=\\frac{5}{C_2} $$\n",
    "\n",
    "\n",
    "$$ C_1(0)=15 \\,\\, , C_2(0)=2 $$ \n",
    "\n",
    "\n",
    "Plot the values of $C_1$ and $C_2$ from $t=0$ to $t=1$:"
   ]
  },
  {
   "cell_type": "markdown",
   "metadata": {
    "collapsed": true
   },
   "source": [
    "<img src=\"CBI DE Graph (1mil iterations).png\" width=\"750\" />"
   ]
  },
  {
   "cell_type": "code",
   "execution_count": 3,
   "metadata": {
    "collapsed": false
   },
   "outputs": [
    {
     "data": {
      "image/png": "[encoded data removed]",
      "text/plain": [
       "<matplotlib.figure.Figure at 0x20749d52a90>"
      ]
     },
     "metadata": {},
     "output_type": "display_data"
    }
   ],
   "source": [
    "import numpy as np\n",
    "from matplotlib import pyplot\n",
    "\n",
    "points = 100\n",
    "length = 1.0/points\n",
    "\n",
    "list1 = np.linspace(0, 1, points)\n",
    "\n",
    "c1 = 15.0\n",
    "c2 = 2.0\n",
    "\n",
    "list2 = []\n",
    "list3 = []\n",
    "\n",
    "for n in list1:\n",
    "    \n",
    "    A = [[1.0, -2.0, 0.0], [2.0, 0.0, -3.0], [1.0, -1.0, 1.0]]\n",
    "    \n",
    "    b1 = -c1/(c2)\n",
    "    b2 = (-c2)\n",
    "    b3 = (5.0/c2)\n",
    "    \n",
    "    b = [b1, b2, b3]\n",
    "    \n",
    "    x = np.linalg.solve(A,b)\n",
    "    \n",
    "    dc1 = x[0]*c1\n",
    "    dc2 = x[1]*c1\n",
    "    \n",
    "    list2.append(c1)\n",
    "    list3.append(c2)\n",
    "\n",
    "    c1 = c1 + dc1*length\n",
    "    c2 = c2 + dc2*length\n",
    "    \n",
    "pyplot.figure(2)\n",
    "pyplot.plot(list1, list2, \"k\")\n",
    "pyplot.plot(list1, list3, \"b\")\n",
    "pyplot.show()"
   ]
  },
  {
   "cell_type": "code",
   "execution_count": null,
   "metadata": {
    "collapsed": true
   },
   "outputs": [],
   "source": []
  }
 ],
 "metadata": {
  "kernelspec": {
   "display_name": "Python 3",
   "language": "python",
   "name": "python3"
  },
  "language_info": {
   "codemirror_mode": {
    "name": "ipython",
    "version": 3
   },
   "file_extension": ".py",
   "mimetype": "text/x-python",
   "name": "python",
   "nbconvert_exporter": "python",
   "pygments_lexer": "ipython3",
   "version": "3.6.0"
  }
 },
 "nbformat": 4,
 "nbformat_minor": 0
}
