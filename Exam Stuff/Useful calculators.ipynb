{
 "cells": [
  {
   "cell_type": "markdown",
   "metadata": {},
   "source": [
    "# Standard import"
   ]
  },
  {
   "cell_type": "code",
   "execution_count": 3,
   "metadata": {
    "collapsed": true
   },
   "outputs": [],
   "source": [
    "import numpy, pandas\n",
    "import matplotlib.pyplot as plt\n",
    "from scipy.integrate import odeint\n",
    "from scipy.optimize import fsolve"
   ]
  },
  {
   "cell_type": "markdown",
   "metadata": {},
   "source": [
    "# Beta/alpha calculation (3 inputs)"
   ]
  },
  {
   "cell_type": "markdown",
   "metadata": {
    "collapsed": true
   },
   "source": [
    "From (Ys) __S__ --> (beta) __NADH__ + (alpha) __CO2__ + (1) __X__"
   ]
  },
  {
   "cell_type": "markdown",
   "metadata": {},
   "source": [
    "#### Define X"
   ]
  },
  {
   "cell_type": "code",
   "execution_count": 1,
   "metadata": {
    "collapsed": true
   },
   "outputs": [],
   "source": [
    "C, H, O, N = 1, 1.8, 0.5, 0.2 #input (defult = average)\n",
    "\n",
    "DORX = C*4 + H + O*(-2) + N*(-3)"
   ]
  },
  {
   "cell_type": "markdown",
   "metadata": {},
   "source": [
    "#### Define S"
   ]
  },
  {
   "cell_type": "code",
   "execution_count": 29,
   "metadata": {
    "collapsed": false
   },
   "outputs": [],
   "source": [
    "C, H, O = 1, 2, 1 #input (defult = glucose)\n",
    "\n",
    "DORS = C*4 + H + O*(-2)"
   ]
  },
  {
   "cell_type": "markdown",
   "metadata": {},
   "source": [
    "#### If alpha is given:"
   ]
  },
  {
   "cell_type": "code",
   "execution_count": 30,
   "metadata": {
    "collapsed": true
   },
   "outputs": [],
   "source": [
    "alpha = 0.1 #input"
   ]
  },
  {
   "cell_type": "code",
   "execution_count": 31,
   "metadata": {
    "collapsed": false
   },
   "outputs": [
    {
     "name": "stdout",
     "output_type": "stream",
     "text": [
      "beta = 0.10000000000000037\n"
     ]
    }
   ],
   "source": [
    "S = numpy.matrix([[-1,0,1,1],\n",
    "                  [-DORS,2,0,DORX],\n",
    "                  [0,0,0,1],                  \n",
    "                  [0,0,1,0]])  \n",
    "\n",
    "C = numpy.matrix([[0,0,1,alpha]]).T\n",
    "Y = numpy.linalg.solve(S,C)\n",
    "print(\"beta =\", float(Y[1]))"
   ]
  },
  {
   "cell_type": "markdown",
   "metadata": {},
   "source": [
    "#### If beta is given:"
   ]
  },
  {
   "cell_type": "code",
   "execution_count": 34,
   "metadata": {
    "collapsed": true
   },
   "outputs": [],
   "source": [
    "beta = 0.1 #input"
   ]
  },
  {
   "cell_type": "code",
   "execution_count": 35,
   "metadata": {
    "collapsed": false
   },
   "outputs": [
    {
     "name": "stdout",
     "output_type": "stream",
     "text": [
      "alpha = 0.09999999999999983\n"
     ]
    }
   ],
   "source": [
    "S = numpy.matrix([[-1,0,1,1],\n",
    "                  [-DORS,2,0,DORX],\n",
    "                  [0,0,0,1],                  \n",
    "                  [0,1,0,0]])  \n",
    "\n",
    "C = numpy.matrix([[0,0,1,beta]]).T\n",
    "Y = numpy.linalg.solve(S,C)\n",
    "print(\"alpha =\", float(Y[2]))"
   ]
  },
  {
   "cell_type": "markdown",
   "metadata": {
    "collapsed": true
   },
   "source": [
    "# Excel imports"
   ]
  },
  {
   "cell_type": "markdown",
   "metadata": {},
   "source": [
    "#### check the file"
   ]
  },
  {
   "cell_type": "code",
   "execution_count": 7,
   "metadata": {
    "collapsed": false
   },
   "outputs": [
    {
     "name": "stdout",
     "output_type": "stream",
     "text": [
      "[['pyr' 'C3H4O3 (acid)' 88.06 'CH(4/3)O' 29.353333333333335\n",
      "  3.333333333333333]\n",
      " ['DHAP ' 'C3H7O6P' 170.06 'CH(7/3)O2P(1/3)' 56.68666666666667 nan]\n",
      " ['glu' 'C6H12O6' 180.16 'CH2O' 30.026666666666667 4.0]\n",
      " ['0.5GLU' 'C3H6O3' 90.08 'CH2O' 30.026666666666667 4.0]\n",
      " ['GLY(GLYCEROL)' 'C3H8O3' 92.09 'CH(8/3)O' 30.69666666666667\n",
      "  4.666666666666666]\n",
      " ['FOR ' 'CH2O2' 46.03 nan nan nan]\n",
      " ['LAC' ' C3H6O3' 90.08 'CH2O' 30.026666666666667 4.0]\n",
      " ['AcAld' '\\u200eC2H4O' '\\u200e44.05' 'CH2O(1/2)' 22.025 5.0]\n",
      " ['AcCoA' 'C23H38N7O17P3S' 809.57 nan 35.19869565217392 nan]\n",
      " ['ACE' 'C2H4O2' 60.05 'CH2O' 30.025 4.0]\n",
      " ['ET' 'C2H6O' 46.07 'CH3O(1/2)' 23.035 6.0]\n",
      " ['CIT' 'C6H8O7' 192.12 'CH(4/3)O(7/6)' 32.02 nan]\n",
      " ['ALPHA-KET' 'C5H6O5' 146.11 'CH(6/5)O' 29.222 nan]\n",
      " ['SU-COA' 'C25H40N7O19P3S' '\\xa0\\u200e867.61' nan 34.7044 nan]\n",
      " ['OXA' 'C4H4O5' 132.07 'CHO(5/4)' 33.0175 nan]\n",
      " ['PDO' 'C3H8O2' 76.1 'CH(8/3)O(2/3)' 25.366666666666664 5.333333333333333]]\n"
     ]
    }
   ],
   "source": [
    "#pandas.read_excel('common compounds.xlsx')\n",
    "M = numpy.matrix(pandas.read_excel('common compounds.xlsx'))\n",
    "print(M)"
   ]
  },
  {
   "cell_type": "markdown",
   "metadata": {},
   "source": [
    "#### import and solve"
   ]
  },
  {
   "cell_type": "code",
   "execution_count": 8,
   "metadata": {
    "collapsed": false
   },
   "outputs": [
    {
     "ename": "SyntaxError",
     "evalue": "invalid syntax (<ipython-input-8-dad50c27106b>, line 3)",
     "output_type": "error",
     "traceback": [
      "\u001b[0;36m  File \u001b[0;32m\"<ipython-input-8-dad50c27106b>\"\u001b[0;36m, line \u001b[0;32m3\u001b[0m\n\u001b[0;31m    C = numpy.matrix([[,,,,,]]).T\u001b[0m\n\u001b[0m                       ^\u001b[0m\n\u001b[0;31mSyntaxError\u001b[0m\u001b[0;31m:\u001b[0m invalid syntax\n"
     ]
    }
   ],
   "source": [
    "M = numpy.matrix(pandas.read_excel('common compounds.xlsx'))\n",
    "print(M)\n",
    "C = numpy.matrix([[,,,,,]]).T\n",
    "r = numpy.linalg.solve(M,C)\n",
    "r "
   ]
  },
  {
   "cell_type": "markdown",
   "metadata": {
    "collapsed": true
   },
   "source": [
    "# NADH CALC (2 inputs)"
   ]
  },
  {
   "cell_type": "markdown",
   "metadata": {},
   "source": [
    "#### IN"
   ]
  },
  {
   "cell_type": "code",
   "execution_count": 9,
   "metadata": {
    "collapsed": false
   },
   "outputs": [
    {
     "ename": "SyntaxError",
     "evalue": "invalid syntax (<ipython-input-9-518a315b98f4>, line 1)",
     "output_type": "error",
     "traceback": [
      "\u001b[0;36m  File \u001b[0;32m\"<ipython-input-9-518a315b98f4>\"\u001b[0;36m, line \u001b[0;32m1\u001b[0m\n\u001b[0;31m    Ci, Hi, Oi, Ni = , , ,\u001b[0m\n\u001b[0m                     ^\u001b[0m\n\u001b[0;31mSyntaxError\u001b[0m\u001b[0;31m:\u001b[0m invalid syntax\n"
     ]
    }
   ],
   "source": [
    "Ci, Hi, Oi, Ni = , , ,  #input\n",
    "\n",
    "DORi = Ci*4 + Hi + Oi*(-2) + Ni*(-3)"
   ]
  },
  {
   "cell_type": "markdown",
   "metadata": {},
   "source": [
    "#### OUT"
   ]
  },
  {
   "cell_type": "code",
   "execution_count": 10,
   "metadata": {
    "collapsed": false
   },
   "outputs": [
    {
     "ename": "SyntaxError",
     "evalue": "invalid syntax (<ipython-input-10-958cf86eccdf>, line 1)",
     "output_type": "error",
     "traceback": [
      "\u001b[0;36m  File \u001b[0;32m\"<ipython-input-10-958cf86eccdf>\"\u001b[0;36m, line \u001b[0;32m1\u001b[0m\n\u001b[0;31m    Co, Ho, Oo, No = , , ,\u001b[0m\n\u001b[0m                     ^\u001b[0m\n\u001b[0;31mSyntaxError\u001b[0m\u001b[0;31m:\u001b[0m invalid syntax\n"
     ]
    }
   ],
   "source": [
    "Co, Ho, Oo, No = , , ,  #input\n",
    "\n",
    "DORo = Co*4 + Ho + Oo*(-2) + No*(-3)"
   ]
  },
  {
   "cell_type": "markdown",
   "metadata": {},
   "source": [
    "#### NADH as product: 1 --> 2 + NADH"
   ]
  },
  {
   "cell_type": "code",
   "execution_count": 11,
   "metadata": {
    "collapsed": false
   },
   "outputs": [
    {
     "ename": "NameError",
     "evalue": "name 'DORi' is not defined",
     "output_type": "error",
     "traceback": [
      "\u001b[0;31m---------------------------------------------------------------------------\u001b[0m",
      "\u001b[0;31mNameError\u001b[0m                                 Traceback (most recent call last)",
      "\u001b[0;32m<ipython-input-11-68d4bd661a2f>\u001b[0m in \u001b[0;36m<module>\u001b[0;34m()\u001b[0m\n\u001b[0;32m----> 1\u001b[0;31m \u001b[0mNADH\u001b[0m \u001b[1;33m=\u001b[0m \u001b[1;33m(\u001b[0m\u001b[0mDORi\u001b[0m \u001b[1;33m-\u001b[0m \u001b[0mDORo\u001b[0m\u001b[1;33m)\u001b[0m\u001b[1;33m/\u001b[0m\u001b[1;36m2\u001b[0m\u001b[1;33m\u001b[0m\u001b[0m\n\u001b[0m\u001b[1;32m      2\u001b[0m \u001b[0mNADH\u001b[0m\u001b[1;33m\u001b[0m\u001b[0m\n",
      "\u001b[0;31mNameError\u001b[0m: name 'DORi' is not defined"
     ]
    }
   ],
   "source": [
    "NADH = (DORi - DORo)/2\n",
    "NADH"
   ]
  },
  {
   "cell_type": "markdown",
   "metadata": {},
   "source": [
    "# MM calculator (1 input)"
   ]
  },
  {
   "cell_type": "code",
   "execution_count": 3,
   "metadata": {
    "collapsed": false
   },
   "outputs": [
    {
     "data": {
      "text/plain": [
       "30"
      ]
     },
     "execution_count": 3,
     "metadata": {},
     "output_type": "execute_result"
    }
   ],
   "source": [
    "C, H, O, N = 1, 2, 1, 0 #input\n",
    "\n",
    "MM = C*12 + H + O*(16) + N*(14)\n",
    "\n",
    "MM"
   ]
  },
  {
   "cell_type": "markdown",
   "metadata": {},
   "source": [
    "# Cmol formula"
   ]
  },
  {
   "cell_type": "code",
   "execution_count": 14,
   "metadata": {
    "collapsed": false
   },
   "outputs": [
    {
     "name": "stdout",
     "output_type": "stream",
     "text": [
      "C 1.0 --H 2.0 --O 1.0 --N 0.0\n"
     ]
    }
   ],
   "source": [
    "C, H, O, N = 6, 12, 6, 0 #input\n",
    "\n",
    "print(\"C\", C/C, \"--H\", H/C, \"--O\", O/C, \"--N\", N/C)"
   ]
  },
  {
   "cell_type": "code",
   "execution_count": null,
   "metadata": {
    "collapsed": true
   },
   "outputs": [],
   "source": []
  }
 ],
 "metadata": {
  "kernelspec": {
   "display_name": "Python 3",
   "language": "python",
   "name": "python3"
  },
  "language_info": {
   "codemirror_mode": {
    "name": "ipython",
    "version": 3
   },
   "file_extension": ".py",
   "mimetype": "text/x-python",
   "name": "python",
   "nbconvert_exporter": "python",
   "pygments_lexer": "ipython3",
   "version": "3.6.0"
  }
 },
 "nbformat": 4,
 "nbformat_minor": 2
}
