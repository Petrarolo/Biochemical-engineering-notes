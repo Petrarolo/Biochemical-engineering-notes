{
 "cells": [
  {
   "cell_type": "markdown",
   "metadata": {},
   "source": [
    "### Oxygen"
   ]
  },
  {
   "cell_type": "markdown",
   "metadata": {},
   "source": [
    "$$r_{O_2}^{mt}=r_{O_2}^V=r_{O_2}C_X$$\n",
    "----\n",
    "\n",
    "The maximum possible transfer rate of oxygen will be given by:\n",
    "\n",
    "$$r_{O_2}^{mt_{max}}=k_La \\cdot C_{O_2}^{sat}$$"
   ]
  },
  {
   "cell_type": "markdown",
   "metadata": {},
   "source": [
    "## Fed-batch fermentation"
   ]
  },
  {
   "cell_type": "markdown",
   "metadata": {},
   "source": [
    "We now want to adress the issue by gradually adding glucose to the fermenter. To do this we need to consider the original cmol component balance given in [section 5.3](https://nbviewer.jupyter.org/github/willienicol/Biochemical-engineering-notes/blob/master/5%20Basic%20bioreactor%20modeling/The%20fermenter%20equation.ipynb):\n",
    "\n",
    "$$\\frac{dN_i}{dt}=Q^F C^F_i-QC_i  + r_i C_X V $$  \n",
    "\n",
    "Since there will be no outlet flow from the fermenter, the equation will reduce to:\n",
    "\n",
    "$$\\frac{dN_i}{dt}=Q^F C^F_i + r_i C_X V $$\n",
    "\n",
    "Note that the superscript $^F$ is used for the feed stream. The change in fermenter volume will be given by:\n",
    "\n",
    "$$\\frac{dV}{dt}=Q^F$$"
   ]
  },
  {
   "cell_type": "code",
   "execution_count": null,
   "metadata": {
    "collapsed": true
   },
   "outputs": [],
   "source": []
  },
  {
   "cell_type": "markdown",
   "metadata": {},
   "source": [
    "$$C_i(t)=\\frac{N_i(t)}{V(t)}$$"
   ]
  },
  {
   "cell_type": "markdown",
   "metadata": {},
   "source": [
    "$$\\frac{dN_S}{dt}=Q^F C^F_S + r_S C_X V $$\n"
   ]
  },
  {
   "cell_type": "markdown",
   "metadata": {},
   "source": [
    "### Continuous fermentation"
   ]
  },
  {
   "cell_type": "markdown",
   "metadata": {},
   "source": [
    "$$\\frac{dN_i}{dt}=Q C^F_i-QC_i  + r_i C_X V $$\n",
    "\n",
    "Given that the inlet and outlet flowrates are the same, the volume in the fermenter will remain unchanged. The above equation can thus be rewritten as follow:\n",
    "\n",
    "$$\\frac{dC_i}{dt}=\\frac{Q}{V}(C^F_i-C_i) + r_i C_X  $$  \n",
    "\n",
    "Note that the outlet concentration ($C_i$) is the same as the concentration in the well mixed fermenter. The inlet concentration\n",
    "($C^F_i$) needs to be specified.\n"
   ]
  },
  {
   "cell_type": "markdown",
   "metadata": {},
   "source": [
    "Note from the specification above that only glucose is fed to the fermenter. Accordingly no cells or lactic acid is fed. The 3 balances can be written separately:\n",
    "\n",
    "$$\\frac{dC_S}{dt}=\\frac{Q}{V}(C^F_S-C_S) + r_S C_X  $$\n",
    "\n",
    "$$\\frac{dC_X}{dt}=-\\frac{Q}{V}C_X + r_X C_X  $$\n",
    "\n",
    "$$\\frac{dC_P}{dt}=-\\frac{Q}{V}C_P + r_P C_X  $$\n"
   ]
  },
  {
   "cell_type": "code",
   "execution_count": null,
   "metadata": {
    "collapsed": true
   },
   "outputs": [],
   "source": []
  },
  {
   "cell_type": "markdown",
   "metadata": {},
   "source": [
    "steady state\n",
    "\n",
    "$$\\frac{Q}{V}(C^F_S-C_S) + r_S C_X = 0 $$\n",
    "\n",
    "$$-\\frac{Q}{V}C_X + r_X C_X  = 0 $$\n",
    "\n",
    "$$-\\frac{Q}{V}C_P + r_P C_X = 0 $$"
   ]
  },
  {
   "cell_type": "code",
   "execution_count": null,
   "metadata": {
    "collapsed": true
   },
   "outputs": [],
   "source": []
  }
 ],
 "metadata": {
  "kernelspec": {
   "display_name": "Python 3",
   "language": "python",
   "name": "python3"
  },
  "language_info": {
   "codemirror_mode": {
    "name": "ipython",
    "version": 3
   },
   "file_extension": ".py",
   "mimetype": "text/x-python",
   "name": "python",
   "nbconvert_exporter": "python",
   "pygments_lexer": "ipython3",
   "version": "3.6.0"
  }
 },
 "nbformat": 4,
 "nbformat_minor": 2
}
